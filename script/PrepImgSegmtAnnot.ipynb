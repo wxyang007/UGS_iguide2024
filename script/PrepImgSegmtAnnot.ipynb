{
 "cells": [
  {
   "cell_type": "code",
   "execution_count": 1,
   "id": "107594b4",
   "metadata": {},
   "outputs": [
    {
     "name": "stdout",
     "output_type": "stream",
     "text": [
      "Intel MKL WARNING: Support of Intel(R) Streaming SIMD Extensions 4.2 (Intel(R) SSE4.2) enabled only processors has been deprecated. Intel oneAPI Math Kernel Library 2025.0 will require Intel(R) Advanced Vector Extensions (Intel(R) AVX) instructions.\n",
      "Intel MKL WARNING: Support of Intel(R) Streaming SIMD Extensions 4.2 (Intel(R) SSE4.2) enabled only processors has been deprecated. Intel oneAPI Math Kernel Library 2025.0 will require Intel(R) Advanced Vector Extensions (Intel(R) AVX) instructions.\n"
     ]
    }
   ],
   "source": [
    "import os\n",
    "import geopandas as gpd\n",
    "import numpy as np\n",
    "import rasterio as rio\n",
    "from shapely.geometry import box"
   ]
  },
  {
   "cell_type": "code",
   "execution_count": 46,
   "id": "4a14ed04",
   "metadata": {},
   "outputs": [],
   "source": [
    "from geocube.api.core import make_geocube\n",
    "from geocube.rasterize import rasterize_image"
   ]
  },
  {
   "cell_type": "code",
   "execution_count": 3,
   "id": "1c6f98dc",
   "metadata": {},
   "outputs": [
    {
     "data": {
      "text/plain": [
       "'/Users/wenxinyang/Desktop/SideProj/iguide2024/script'"
      ]
     },
     "execution_count": 3,
     "metadata": {},
     "output_type": "execute_result"
    }
   ],
   "source": [
    "os.getcwd()"
   ]
  },
  {
   "cell_type": "code",
   "execution_count": 23,
   "id": "db4fe24e",
   "metadata": {},
   "outputs": [],
   "source": [
    "# path to the image chips\n",
    "data_folder = r'/users/wenxinyang/desktop/sideproj/iguide2024/data'\n",
    "train_folder = r'/Users/wenxinyang/desktop/sideproj/iguide2024/data/training_samples'\n",
    "img_folder = os.path.join(train_folder, 'images')\n",
    "annot_folder = os.path.join(train_folder, 'annotations')\n",
    "if os.path.exists(annot_folder)==False:\n",
    "    os.mkdir(os.path.join(train_folder, 'annotations'))"
   ]
  },
  {
   "cell_type": "code",
   "execution_count": 18,
   "id": "793c1354",
   "metadata": {},
   "outputs": [],
   "source": [
    "# get all images in the img folder\n",
    "imgs = [x for x in os.listdir(img_folder) if x.endswith('.tif')]"
   ]
  },
  {
   "cell_type": "code",
   "execution_count": 20,
   "id": "5cd51dd7",
   "metadata": {},
   "outputs": [
    {
     "data": {
      "text/plain": [
       "586"
      ]
     },
     "execution_count": 20,
     "metadata": {},
     "output_type": "execute_result"
    }
   ],
   "source": [
    "len(imgs)"
   ]
  },
  {
   "cell_type": "code",
   "execution_count": null,
   "id": "59384b3e",
   "metadata": {},
   "outputs": [],
   "source": [
    "# because I did not use a buffer when preparing the background image, there is a problem, some chips are incomplete\n",
    "# should've added the buffer\n",
    "# but for now, we could check if the image falls completely within 2020_houston_naip.tif"
   ]
  },
  {
   "cell_type": "code",
   "execution_count": null,
   "id": "23c0c4d7",
   "metadata": {},
   "outputs": [],
   "source": [
    "def filterIncompleteChips():\n",
    "    print('')"
   ]
  },
  {
   "cell_type": "code",
   "execution_count": null,
   "id": "e54dba9d",
   "metadata": {},
   "outputs": [],
   "source": [
    "# the next step: for each img, crop park by its boundary and convert to raster"
   ]
  },
  {
   "cell_type": "code",
   "execution_count": 24,
   "id": "dc688c8a",
   "metadata": {},
   "outputs": [],
   "source": [
    "prk = gpd.read_file(os.path.join(data_folder, 'park_hst.shp'))"
   ]
  },
  {
   "cell_type": "code",
   "execution_count": 26,
   "id": "225287ee",
   "metadata": {},
   "outputs": [],
   "source": [
    "# select an image to test this\n",
    "path_img = os.path.join(img_folder, '000000000089.tif')"
   ]
  },
  {
   "cell_type": "code",
   "execution_count": 30,
   "id": "ed11058e",
   "metadata": {},
   "outputs": [],
   "source": [
    "img = rio.open(path_img)"
   ]
  },
  {
   "cell_type": "code",
   "execution_count": 31,
   "id": "8877e996",
   "metadata": {},
   "outputs": [],
   "source": [
    "bounds = img.bounds"
   ]
  },
  {
   "cell_type": "code",
   "execution_count": 32,
   "id": "b44e8db4",
   "metadata": {},
   "outputs": [],
   "source": [
    "geom = box(*bounds)"
   ]
  },
  {
   "cell_type": "code",
   "execution_count": 33,
   "id": "c5df9a97",
   "metadata": {},
   "outputs": [],
   "source": [
    "gdf = gpd.GeoDataFrame({\"id\":1,\"geometry\":[geom]})"
   ]
  },
  {
   "cell_type": "code",
   "execution_count": 54,
   "id": "4f217dbd",
   "metadata": {},
   "outputs": [],
   "source": [
    "prk_raster = make_geocube(\n",
    "        vector_data=shp_img,\n",
    "        measurements = [\"id\"],\n",
    "        resolution=(-30, 30),\n",
    "        fill = 0\n",
    "    )"
   ]
  },
  {
   "cell_type": "code",
   "execution_count": 55,
   "id": "23047aa5",
   "metadata": {},
   "outputs": [],
   "source": [
    "prk_raster.rio.to_raster(os.path.join(annot_folder, 'test.tiff'))"
   ]
  },
  {
   "cell_type": "code",
   "execution_count": 52,
   "id": "2205a3aa",
   "metadata": {},
   "outputs": [],
   "source": [
    "def createAnnt(img, shp):\n",
    "    # 1. crop park by the bounding box of the image\n",
    "    # 1.1 get bounding box of the image\n",
    "    bounds = img.bounds\n",
    "    geom = box(*bounds)\n",
    "    gdf = gpd.GeoDataFrame({\"id\":1,\"geometry\":[geom]})\n",
    "    # 1.2 crop park by it\n",
    "    shp_img = gdf.clip(shp).explode(index_parts = True)\n",
    "    \n",
    "    # 2. convert the cropped shapefile to a binary raster: 0 means non-UGS, 1 means UGS\n",
    "        # Using GeoCube to rasterize the Vector\n",
    "    prk_raster = make_geocube(\n",
    "        vector_data=shp_img,\n",
    "        measurements = [\"id\"],\n",
    "        resolution=(-30, 30),\n",
    "        fill = 0\n",
    "    )\n",
    "    \n",
    "    # Save raster census raster\n",
    "    prk_raster.rio.to_raster('')"
   ]
  },
  {
   "cell_type": "code",
   "execution_count": null,
   "id": "c1f1d2cd",
   "metadata": {},
   "outputs": [],
   "source": []
  }
 ],
 "metadata": {
  "kernelspec": {
   "display_name": "Python 3 (ipykernel)",
   "language": "python",
   "name": "python3"
  },
  "language_info": {
   "codemirror_mode": {
    "name": "ipython",
    "version": 3
   },
   "file_extension": ".py",
   "mimetype": "text/x-python",
   "name": "python",
   "nbconvert_exporter": "python",
   "pygments_lexer": "ipython3",
   "version": "3.10.12"
  }
 },
 "nbformat": 4,
 "nbformat_minor": 5
}
