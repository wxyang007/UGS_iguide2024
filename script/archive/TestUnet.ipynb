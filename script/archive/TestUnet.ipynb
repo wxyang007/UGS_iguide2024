{
 "cells": [
  {
   "cell_type": "markdown",
   "id": "cf1d3cae",
   "metadata": {},
   "source": [
    "# Attempt to build a basic U-net model with keras"
   ]
  },
  {
   "cell_type": "markdown",
   "id": "990e43e3",
   "metadata": {},
   "source": [
    "Author: this script is currently entirely based on the GitHub repo: image-segmentation-keras\n",
    "\n",
    "Editors: Ruowei Liu, Wenxin Yang, 08/08/2024\n",
    "\n",
    "Purpose of the script: Using pre-processed images and their corresponding annotations of urban green spaces, we use the u-net architecture to train a computer vision model.\n",
    "\n",
    "None of the editors had prior experiences in buidling any computer vision model. This is a learning experience for both of us and we are excited about building our first CV model."
   ]
  },
  {
   "cell_type": "code",
   "execution_count": null,
   "id": "ae3aeaaf",
   "metadata": {},
   "outputs": [],
   "source": [
    "from keras_segmentation.models.unet import vgg_unet\n",
    "# breaks the notebook when run on a personal laptop (Mac Book Pro M1)\n",
    "# doesn't break when run on a lab desktop (Windows)"
   ]
  },
  {
   "cell_type": "code",
   "execution_count": null,
   "id": "3a22bef2",
   "metadata": {},
   "outputs": [],
   "source": [
    "# initialize the model\n",
    "model = vgg_unet(n_classes=50, input_height=320, input_width=640)"
   ]
  },
  {
   "cell_type": "code",
   "execution_count": 2,
   "id": "457cc088",
   "metadata": {},
   "outputs": [],
   "source": [
    "# train the model\n",
    "model.train(\n",
    "    train_images =  \"/data/training_samples/images\",\n",
    "    train_annotations = \"/data/training_samples/annotations\",\n",
    "    checkpoints_path = \"/tmp/vgg_unet_1\" , epochs=5 # we still need to figure out what this mean\n",
    ")"
   ]
  },
  {
   "cell_type": "code",
   "execution_count": null,
   "id": "415a6448",
   "metadata": {},
   "outputs": [],
   "source": [
    "# apply the model on a single image\n",
    "out = model.predict_segmentation(\n",
    "    inp=\"/data/training_samples/test/1.png\",\n",
    "    out_fname=\"/tmp/out.png\"\n",
    ")"
   ]
  },
  {
   "cell_type": "code",
   "execution_count": 3,
   "id": "f5ef4c25",
   "metadata": {},
   "outputs": [],
   "source": [
    "# we will write script to test model performance and compute accuracy metrics"
   ]
  }
 ],
 "metadata": {
  "kernelspec": {
   "display_name": "Python 3 (ipykernel)",
   "language": "python",
   "name": "python3"
  },
  "language_info": {
   "codemirror_mode": {
    "name": "ipython",
    "version": 3
   },
   "file_extension": ".py",
   "mimetype": "text/x-python",
   "name": "python",
   "nbconvert_exporter": "python",
   "pygments_lexer": "ipython3",
   "version": "3.10.12"
  }
 },
 "nbformat": 4,
 "nbformat_minor": 5
}
