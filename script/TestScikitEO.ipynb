{
 "cells": [
  {
   "cell_type": "code",
   "execution_count": 51,
   "id": "f90da89d",
   "metadata": {},
   "outputs": [
    {
     "name": "stdout",
     "output_type": "stream",
     "text": [
      "Collecting git+https://github.com/ytarazona/scikit-eo\n",
      "  Cloning https://github.com/ytarazona/scikit-eo to c:\\users\\wenxinyang\\appdata\\local\\temp\\pip-req-build-dw_hlqz0\n",
      "  Resolved https://github.com/ytarazona/scikit-eo to commit eb0a6cdca8369058d446428618a1677dcbe553a7\n",
      "  Preparing metadata (setup.py): started\n",
      "  Preparing metadata (setup.py): finished with status 'done'\n",
      "Requirement already satisfied: dbfread in c:\\users\\wenxinyang\\appdata\\local\\miniforge3\\envs\\gchm384\\lib\\site-packages (from scikeo==0.2.16) (2.0.7)\n",
      "Requirement already satisfied: fiona in c:\\users\\wenxinyang\\appdata\\local\\miniforge3\\envs\\gchm384\\lib\\site-packages (from scikeo==0.2.16) (1.9.6)\n",
      "Requirement already satisfied: numpy in c:\\users\\wenxinyang\\appdata\\local\\miniforge3\\envs\\gchm384\\lib\\site-packages (from scikeo==0.2.16) (1.26.4)\n",
      "Requirement already satisfied: pandas in c:\\users\\wenxinyang\\appdata\\local\\miniforge3\\envs\\gchm384\\lib\\site-packages (from scikeo==0.2.16) (2.2.1)\n",
      "Requirement already satisfied: rasterio in c:\\users\\wenxinyang\\appdata\\local\\miniforge3\\envs\\gchm384\\lib\\site-packages (from scikeo==0.2.16) (1.3.9)\n",
      "Requirement already satisfied: scikit-learn in c:\\users\\wenxinyang\\appdata\\local\\miniforge3\\envs\\gchm384\\lib\\site-packages (from scikeo==0.2.16) (1.3.0)\n",
      "Requirement already satisfied: scipy in c:\\users\\wenxinyang\\appdata\\local\\miniforge3\\envs\\gchm384\\lib\\site-packages (from scikeo==0.2.16) (1.12.0)\n",
      "Requirement already satisfied: attrs>=19.2.0 in c:\\users\\wenxinyang\\appdata\\local\\miniforge3\\envs\\gchm384\\lib\\site-packages (from fiona->scikeo==0.2.16) (23.2.0)\n",
      "Requirement already satisfied: click~=8.0 in c:\\users\\wenxinyang\\appdata\\local\\miniforge3\\envs\\gchm384\\lib\\site-packages (from fiona->scikeo==0.2.16) (8.1.7)\n",
      "Requirement already satisfied: click-plugins>=1.0 in c:\\users\\wenxinyang\\appdata\\local\\miniforge3\\envs\\gchm384\\lib\\site-packages (from fiona->scikeo==0.2.16) (1.1.1)\n",
      "Requirement already satisfied: cligj>=0.5 in c:\\users\\wenxinyang\\appdata\\local\\miniforge3\\envs\\gchm384\\lib\\site-packages (from fiona->scikeo==0.2.16) (0.7.2)\n",
      "Requirement already satisfied: six in c:\\users\\wenxinyang\\appdata\\local\\miniforge3\\envs\\gchm384\\lib\\site-packages (from fiona->scikeo==0.2.16) (1.16.0)\n",
      "Requirement already satisfied: python-dateutil>=2.8.2 in c:\\users\\wenxinyang\\appdata\\local\\miniforge3\\envs\\gchm384\\lib\\site-packages (from pandas->scikeo==0.2.16) (2.9.0)\n",
      "Requirement already satisfied: pytz>=2020.1 in c:\\users\\wenxinyang\\appdata\\local\\miniforge3\\envs\\gchm384\\lib\\site-packages (from pandas->scikeo==0.2.16) (2024.1)\n",
      "Requirement already satisfied: tzdata>=2022.7 in c:\\users\\wenxinyang\\appdata\\local\\miniforge3\\envs\\gchm384\\lib\\site-packages (from pandas->scikeo==0.2.16) (2023.3)\n",
      "Requirement already satisfied: affine in c:\\users\\wenxinyang\\appdata\\local\\miniforge3\\envs\\gchm384\\lib\\site-packages (from rasterio->scikeo==0.2.16) (2.4.0)\n",
      "Requirement already satisfied: certifi in c:\\users\\wenxinyang\\appdata\\local\\miniforge3\\envs\\gchm384\\lib\\site-packages (from rasterio->scikeo==0.2.16) (2024.2.2)\n",
      "Requirement already satisfied: snuggs>=1.4.1 in c:\\users\\wenxinyang\\appdata\\local\\miniforge3\\envs\\gchm384\\lib\\site-packages (from rasterio->scikeo==0.2.16) (1.4.7)\n",
      "Requirement already satisfied: setuptools in c:\\users\\wenxinyang\\appdata\\local\\miniforge3\\envs\\gchm384\\lib\\site-packages (from rasterio->scikeo==0.2.16) (68.2.2)\n",
      "Requirement already satisfied: joblib>=1.1.1 in c:\\users\\wenxinyang\\appdata\\local\\miniforge3\\envs\\gchm384\\lib\\site-packages (from scikit-learn->scikeo==0.2.16) (1.3.2)\n",
      "Requirement already satisfied: threadpoolctl>=2.0.0 in c:\\users\\wenxinyang\\appdata\\local\\miniforge3\\envs\\gchm384\\lib\\site-packages (from scikit-learn->scikeo==0.2.16) (3.3.0)\n",
      "Requirement already satisfied: colorama in c:\\users\\wenxinyang\\appdata\\local\\miniforge3\\envs\\gchm384\\lib\\site-packages (from click~=8.0->fiona->scikeo==0.2.16) (0.4.6)\n",
      "Requirement already satisfied: pyparsing>=2.1.6 in c:\\users\\wenxinyang\\appdata\\local\\miniforge3\\envs\\gchm384\\lib\\site-packages (from snuggs>=1.4.1->rasterio->scikeo==0.2.16) (3.1.1)\n",
      "Building wheels for collected packages: scikeo\n",
      "  Building wheel for scikeo (setup.py): started\n",
      "  Building wheel for scikeo (setup.py): finished with status 'done'\n",
      "  Created wheel for scikeo: filename=scikeo-0.2.16-py2.py3-none-any.whl size=37729 sha256=9d78417de6e2b4f8ae1967df306062c5b38f9e05c8b2d054fd0b8d3db28570e7\n",
      "  Stored in directory: C:\\Users\\wenxinyang\\AppData\\Local\\Temp\\pip-ephem-wheel-cache-u82omjxc\\wheels\\1b\\3d\\0a\\263fb76deccb8f6c6995a90e117116060f455fb73e3855a67b\n",
      "Successfully built scikeo\n",
      "Installing collected packages: scikeo\n",
      "  Attempting uninstall: scikeo\n",
      "    Found existing installation: scikeo 0.2.32\n",
      "    Uninstalling scikeo-0.2.32:\n",
      "      Successfully uninstalled scikeo-0.2.32\n",
      "Successfully installed scikeo-0.2.16\n"
     ]
    },
    {
     "name": "stderr",
     "output_type": "stream",
     "text": [
      "  Running command git clone --filter=blob:none --quiet https://github.com/ytarazona/scikit-eo 'C:\\Users\\wenxinyang\\AppData\\Local\\Temp\\pip-req-build-dw_hlqz0'\n"
     ]
    }
   ],
   "source": [
    "# !pip install git+https://github.com/ytarazona/scikit-eo"
   ]
  },
  {
   "cell_type": "code",
   "execution_count": 1,
   "id": "b2c9b86f",
   "metadata": {},
   "outputs": [],
   "source": [
    "import rasterio\n",
    "import numpy as np\n",
    "from scikeo.mla import MLA\n",
    "import matplotlib.pyplot as plt\n",
    "from dbfread import DBF\n",
    "import matplotlib as mpl\n",
    "import pandas as pd\n",
    "from scikeo.process import extract\n",
    "from scikeo.deeplearning import DL"
   ]
  },
  {
   "cell_type": "code",
   "execution_count": 2,
   "id": "d569d207-ff83-48b8-a1b6-5691c4c07b74",
   "metadata": {},
   "outputs": [],
   "source": [
    "import geopandas as gpd"
   ]
  },
  {
   "cell_type": "code",
   "execution_count": 3,
   "id": "e6f94951-65e8-49a8-b0b1-0190e1f59580",
   "metadata": {},
   "outputs": [],
   "source": [
    "from shapely.geometry import Polygon"
   ]
  },
  {
   "cell_type": "code",
   "execution_count": 4,
   "id": "8aee762b",
   "metadata": {},
   "outputs": [],
   "source": [
    "path_raster = r\"C:\\Users\\wenxinyang\\Desktop\\Projects\\iguide\\2020_houston_naip.tif\"\n",
    "img = rasterio.open(path_raster)"
   ]
  },
  {
   "cell_type": "code",
   "execution_count": 5,
   "id": "8d544529-b198-4bb3-96ff-139e664d8548",
   "metadata": {},
   "outputs": [
    {
     "data": {
      "text/plain": [
       "CRS.from_epsg(4326)"
      ]
     },
     "execution_count": 5,
     "metadata": {},
     "output_type": "execute_result"
    }
   ],
   "source": [
    "img.crs"
   ]
  },
  {
   "cell_type": "code",
   "execution_count": 6,
   "id": "890057ed-4b62-418f-bfb4-e5cc92d63a12",
   "metadata": {},
   "outputs": [],
   "source": [
    "path_endm = r\"C:\\Users\\wenxinyang\\Desktop\\Projects\\iguide\\park_hst\\park_hst.dbf\"\n",
    "endm = DBF(path_endm)"
   ]
  },
  {
   "cell_type": "code",
   "execution_count": 7,
   "id": "55286fa4-97de-41a6-8502-6f9b64b90005",
   "metadata": {},
   "outputs": [],
   "source": [
    "test = gpd.read_file(r\"C:\\Users\\wenxinyang\\Desktop\\Projects\\iguide\\park_hst\\park_hst.shp\")"
   ]
  },
  {
   "cell_type": "code",
   "execution_count": 8,
   "id": "84c0782c-8410-4343-bef7-6ed44388def9",
   "metadata": {},
   "outputs": [],
   "source": [
    "test_pt = gpd.GeoDataFrame(test.sample_points(size = 30))"
   ]
  },
  {
   "cell_type": "code",
   "execution_count": 9,
   "id": "86724050-ff7e-4273-9b63-2e30e572e5d1",
   "metadata": {},
   "outputs": [
    {
     "name": "stderr",
     "output_type": "stream",
     "text": [
      "C:\\Users\\wenxinyang\\AppData\\Local\\Temp\\ipykernel_6716\\3156293003.py:1: FutureWarning: You are adding a column named 'geometry' to a GeoDataFrame constructed without an active geometry column. Currently, this automatically sets the active geometry column to 'geometry' but in the future that will no longer happen. Instead, either provide geometry to the GeoDataFrame constructor (GeoDataFrame(... geometry=GeoSeries()) or use `set_geometry('geometry')` to explicitly set the active geometry column.\n",
      "  test_pt['geometry'] = test_pt['sampled_points']\n"
     ]
    }
   ],
   "source": [
    "test_pt['geometry'] = test_pt['sampled_points']"
   ]
  },
  {
   "cell_type": "code",
   "execution_count": 10,
   "id": "e6bb27f8-5012-4a3b-b4e2-31edbda76258",
   "metadata": {},
   "outputs": [
    {
     "name": "stderr",
     "output_type": "stream",
     "text": [
      "C:\\Users\\wenxinyang\\AppData\\Local\\Temp\\ipykernel_6716\\748659652.py:1: FutureWarning: Currently, index_parts defaults to True, but in the future, it will default to False to be consistent with Pandas. Use `index_parts=True` to keep the current behavior and True/False to silence the warning.\n",
      "  test_pt = test_pt.set_geometry('geometry').explode().reset_index()\n"
     ]
    }
   ],
   "source": [
    "test_pt = test_pt.set_geometry('geometry').explode().reset_index()"
   ]
  },
  {
   "cell_type": "code",
   "execution_count": 11,
   "id": "4aa23e70-2802-4618-81f5-4ee7a3578acc",
   "metadata": {},
   "outputs": [
    {
     "data": {
      "text/plain": [
       "Index(['level_0', 'level_1', 'sampled_points', 'geometry'], dtype='object')"
      ]
     },
     "execution_count": 11,
     "metadata": {},
     "output_type": "execute_result"
    }
   ],
   "source": [
    "test_pt.columns"
   ]
  },
  {
   "cell_type": "code",
   "execution_count": 12,
   "id": "03f58343-6ea2-4ffc-8348-a36321419be9",
   "metadata": {},
   "outputs": [],
   "source": [
    "test_pt['class'] = 1"
   ]
  },
  {
   "cell_type": "code",
   "execution_count": 42,
   "id": "0665322c-6c48-4c13-8789-1047f56010b1",
   "metadata": {},
   "outputs": [],
   "source": [
    "# used its extract function"
   ]
  },
  {
   "cell_type": "code",
   "execution_count": 13,
   "id": "6d26e7c0-5a4e-4304-b494-71852a363e07",
   "metadata": {},
   "outputs": [],
   "source": [
    "gdf = gpd.GeoDataFrame(geometry = test_pt['geometry'])\n",
    "coords = [(x,y) for x,y in zip(gdf['geometry'].x, gdf['geometry'].y)]"
   ]
  },
  {
   "cell_type": "code",
   "execution_count": 14,
   "id": "ffb22908-1789-4862-be02-ce434c0db3fb",
   "metadata": {},
   "outputs": [],
   "source": [
    "gdf['values'] = [x for x in img.sample(coords)]"
   ]
  },
  {
   "cell_type": "code",
   "execution_count": 15,
   "id": "331eb465-1415-4327-b760-8494fcc9e31f",
   "metadata": {},
   "outputs": [
    {
     "data": {
      "text/html": [
       "<div>\n",
       "<style scoped>\n",
       "    .dataframe tbody tr th:only-of-type {\n",
       "        vertical-align: middle;\n",
       "    }\n",
       "\n",
       "    .dataframe tbody tr th {\n",
       "        vertical-align: top;\n",
       "    }\n",
       "\n",
       "    .dataframe thead th {\n",
       "        text-align: right;\n",
       "    }\n",
       "</style>\n",
       "<table border=\"1\" class=\"dataframe\">\n",
       "  <thead>\n",
       "    <tr style=\"text-align: right;\">\n",
       "      <th></th>\n",
       "      <th>geometry</th>\n",
       "      <th>values</th>\n",
       "    </tr>\n",
       "  </thead>\n",
       "  <tbody>\n",
       "    <tr>\n",
       "      <th>0</th>\n",
       "      <td>POINT (-95.58503 29.96638)</td>\n",
       "      <td>[94.5, 111.0, 92.5, 159.0]</td>\n",
       "    </tr>\n",
       "    <tr>\n",
       "      <th>1</th>\n",
       "      <td>POINT (-95.58474 29.96662)</td>\n",
       "      <td>[77.0, 95.0, 83.0, 150.5]</td>\n",
       "    </tr>\n",
       "    <tr>\n",
       "      <th>2</th>\n",
       "      <td>POINT (-95.58470 29.96645)</td>\n",
       "      <td>[77.0, 95.0, 83.0, 150.5]</td>\n",
       "    </tr>\n",
       "    <tr>\n",
       "      <th>3</th>\n",
       "      <td>POINT (-95.58455 29.96546)</td>\n",
       "      <td>[128.5, 138.0, 121.5, 140.0]</td>\n",
       "    </tr>\n",
       "    <tr>\n",
       "      <th>4</th>\n",
       "      <td>POINT (-95.58440 29.96666)</td>\n",
       "      <td>[108.0, 123.5, 101.5, 152.5]</td>\n",
       "    </tr>\n",
       "    <tr>\n",
       "      <th>...</th>\n",
       "      <td>...</td>\n",
       "      <td>...</td>\n",
       "    </tr>\n",
       "    <tr>\n",
       "      <th>70315</th>\n",
       "      <td>POINT (-95.71444 29.60745)</td>\n",
       "      <td>[128.0, 139.5, 104.0, 178.0]</td>\n",
       "    </tr>\n",
       "    <tr>\n",
       "      <th>70316</th>\n",
       "      <td>POINT (-95.71431 29.60794)</td>\n",
       "      <td>[127.5, 140.0, 106.5, 174.0]</td>\n",
       "    </tr>\n",
       "    <tr>\n",
       "      <th>70317</th>\n",
       "      <td>POINT (-95.71422 29.60715)</td>\n",
       "      <td>[171.5, 173.5, 164.0, 131.0]</td>\n",
       "    </tr>\n",
       "    <tr>\n",
       "      <th>70318</th>\n",
       "      <td>POINT (-95.71418 29.60698)</td>\n",
       "      <td>[171.5, 173.5, 164.0, 131.0]</td>\n",
       "    </tr>\n",
       "    <tr>\n",
       "      <th>70319</th>\n",
       "      <td>POINT (-95.71414 29.60689)</td>\n",
       "      <td>[173.5, 175.5, 166.5, 129.5]</td>\n",
       "    </tr>\n",
       "  </tbody>\n",
       "</table>\n",
       "<p>70320 rows × 2 columns</p>\n",
       "</div>"
      ],
      "text/plain": [
       "                         geometry                        values\n",
       "0      POINT (-95.58503 29.96638)    [94.5, 111.0, 92.5, 159.0]\n",
       "1      POINT (-95.58474 29.96662)     [77.0, 95.0, 83.0, 150.5]\n",
       "2      POINT (-95.58470 29.96645)     [77.0, 95.0, 83.0, 150.5]\n",
       "3      POINT (-95.58455 29.96546)  [128.5, 138.0, 121.5, 140.0]\n",
       "4      POINT (-95.58440 29.96666)  [108.0, 123.5, 101.5, 152.5]\n",
       "...                           ...                           ...\n",
       "70315  POINT (-95.71444 29.60745)  [128.0, 139.5, 104.0, 178.0]\n",
       "70316  POINT (-95.71431 29.60794)  [127.5, 140.0, 106.5, 174.0]\n",
       "70317  POINT (-95.71422 29.60715)  [171.5, 173.5, 164.0, 131.0]\n",
       "70318  POINT (-95.71418 29.60698)  [171.5, 173.5, 164.0, 131.0]\n",
       "70319  POINT (-95.71414 29.60689)  [173.5, 175.5, 166.5, 129.5]\n",
       "\n",
       "[70320 rows x 2 columns]"
      ]
     },
     "execution_count": 15,
     "metadata": {},
     "output_type": "execute_result"
    }
   ],
   "source": [
    "gdf"
   ]
  },
  {
   "cell_type": "code",
   "execution_count": 16,
   "id": "2305dce6-162b-484c-a395-c6a444d14021",
   "metadata": {},
   "outputs": [],
   "source": [
    "bands_total = gdf['values'][0].shape[0]"
   ]
  },
  {
   "cell_type": "code",
   "execution_count": 17,
   "id": "7d53e19a-5cf0-4108-b6d3-a5ba9de9fe6c",
   "metadata": {},
   "outputs": [],
   "source": [
    "col_names = [f'band{i}' for i in range(1, bands_total+1)]"
   ]
  },
  {
   "cell_type": "code",
   "execution_count": 18,
   "id": "100c2f4c-3301-4f4f-8501-d36a5cf9dc03",
   "metadata": {},
   "outputs": [
    {
     "data": {
      "text/plain": [
       "['band1', 'band2', 'band3', 'band4']"
      ]
     },
     "execution_count": 18,
     "metadata": {},
     "output_type": "execute_result"
    }
   ],
   "source": [
    "col_names"
   ]
  },
  {
   "cell_type": "code",
   "execution_count": 19,
   "id": "6a25cb6c-cd03-4a41-a55d-bd57ef13f6d4",
   "metadata": {},
   "outputs": [],
   "source": [
    "df = pd.DataFrame(gdf['values'].to_list(), columns = col_names)"
   ]
  },
  {
   "cell_type": "code",
   "execution_count": 20,
   "id": "b710bd15-d953-4471-8cf9-f07eb5806558",
   "metadata": {},
   "outputs": [
    {
     "data": {
      "text/html": [
       "<div>\n",
       "<style scoped>\n",
       "    .dataframe tbody tr th:only-of-type {\n",
       "        vertical-align: middle;\n",
       "    }\n",
       "\n",
       "    .dataframe tbody tr th {\n",
       "        vertical-align: top;\n",
       "    }\n",
       "\n",
       "    .dataframe thead th {\n",
       "        text-align: right;\n",
       "    }\n",
       "</style>\n",
       "<table border=\"1\" class=\"dataframe\">\n",
       "  <thead>\n",
       "    <tr style=\"text-align: right;\">\n",
       "      <th></th>\n",
       "      <th>band1</th>\n",
       "      <th>band2</th>\n",
       "      <th>band3</th>\n",
       "      <th>band4</th>\n",
       "    </tr>\n",
       "  </thead>\n",
       "  <tbody>\n",
       "    <tr>\n",
       "      <th>0</th>\n",
       "      <td>94.5</td>\n",
       "      <td>111.0</td>\n",
       "      <td>92.5</td>\n",
       "      <td>159.0</td>\n",
       "    </tr>\n",
       "    <tr>\n",
       "      <th>1</th>\n",
       "      <td>77.0</td>\n",
       "      <td>95.0</td>\n",
       "      <td>83.0</td>\n",
       "      <td>150.5</td>\n",
       "    </tr>\n",
       "    <tr>\n",
       "      <th>2</th>\n",
       "      <td>77.0</td>\n",
       "      <td>95.0</td>\n",
       "      <td>83.0</td>\n",
       "      <td>150.5</td>\n",
       "    </tr>\n",
       "    <tr>\n",
       "      <th>3</th>\n",
       "      <td>128.5</td>\n",
       "      <td>138.0</td>\n",
       "      <td>121.5</td>\n",
       "      <td>140.0</td>\n",
       "    </tr>\n",
       "    <tr>\n",
       "      <th>4</th>\n",
       "      <td>108.0</td>\n",
       "      <td>123.5</td>\n",
       "      <td>101.5</td>\n",
       "      <td>152.5</td>\n",
       "    </tr>\n",
       "    <tr>\n",
       "      <th>...</th>\n",
       "      <td>...</td>\n",
       "      <td>...</td>\n",
       "      <td>...</td>\n",
       "      <td>...</td>\n",
       "    </tr>\n",
       "    <tr>\n",
       "      <th>70315</th>\n",
       "      <td>128.0</td>\n",
       "      <td>139.5</td>\n",
       "      <td>104.0</td>\n",
       "      <td>178.0</td>\n",
       "    </tr>\n",
       "    <tr>\n",
       "      <th>70316</th>\n",
       "      <td>127.5</td>\n",
       "      <td>140.0</td>\n",
       "      <td>106.5</td>\n",
       "      <td>174.0</td>\n",
       "    </tr>\n",
       "    <tr>\n",
       "      <th>70317</th>\n",
       "      <td>171.5</td>\n",
       "      <td>173.5</td>\n",
       "      <td>164.0</td>\n",
       "      <td>131.0</td>\n",
       "    </tr>\n",
       "    <tr>\n",
       "      <th>70318</th>\n",
       "      <td>171.5</td>\n",
       "      <td>173.5</td>\n",
       "      <td>164.0</td>\n",
       "      <td>131.0</td>\n",
       "    </tr>\n",
       "    <tr>\n",
       "      <th>70319</th>\n",
       "      <td>173.5</td>\n",
       "      <td>175.5</td>\n",
       "      <td>166.5</td>\n",
       "      <td>129.5</td>\n",
       "    </tr>\n",
       "  </tbody>\n",
       "</table>\n",
       "<p>70320 rows × 4 columns</p>\n",
       "</div>"
      ],
      "text/plain": [
       "       band1  band2  band3  band4\n",
       "0       94.5  111.0   92.5  159.0\n",
       "1       77.0   95.0   83.0  150.5\n",
       "2       77.0   95.0   83.0  150.5\n",
       "3      128.5  138.0  121.5  140.0\n",
       "4      108.0  123.5  101.5  152.5\n",
       "...      ...    ...    ...    ...\n",
       "70315  128.0  139.5  104.0  178.0\n",
       "70316  127.5  140.0  106.5  174.0\n",
       "70317  171.5  173.5  164.0  131.0\n",
       "70318  171.5  173.5  164.0  131.0\n",
       "70319  173.5  175.5  166.5  129.5\n",
       "\n",
       "[70320 rows x 4 columns]"
      ]
     },
     "execution_count": 20,
     "metadata": {},
     "output_type": "execute_result"
    }
   ],
   "source": [
    "df"
   ]
  },
  {
   "cell_type": "code",
   "execution_count": 21,
   "id": "96714929-0793-48e0-bfcf-c232406b6930",
   "metadata": {},
   "outputs": [],
   "source": [
    "join_df = pd.concat([test_pt.iloc[:,0], df], axis=1, join='inner')"
   ]
  },
  {
   "cell_type": "code",
   "execution_count": 22,
   "id": "0189e94b-208b-45f0-b913-ae8792e51117",
   "metadata": {},
   "outputs": [
    {
     "data": {
      "text/html": [
       "<div>\n",
       "<style scoped>\n",
       "    .dataframe tbody tr th:only-of-type {\n",
       "        vertical-align: middle;\n",
       "    }\n",
       "\n",
       "    .dataframe tbody tr th {\n",
       "        vertical-align: top;\n",
       "    }\n",
       "\n",
       "    .dataframe thead th {\n",
       "        text-align: right;\n",
       "    }\n",
       "</style>\n",
       "<table border=\"1\" class=\"dataframe\">\n",
       "  <thead>\n",
       "    <tr style=\"text-align: right;\">\n",
       "      <th></th>\n",
       "      <th>level_0</th>\n",
       "      <th>band1</th>\n",
       "      <th>band2</th>\n",
       "      <th>band3</th>\n",
       "      <th>band4</th>\n",
       "    </tr>\n",
       "  </thead>\n",
       "  <tbody>\n",
       "    <tr>\n",
       "      <th>0</th>\n",
       "      <td>0</td>\n",
       "      <td>94.5</td>\n",
       "      <td>111.0</td>\n",
       "      <td>92.5</td>\n",
       "      <td>159.0</td>\n",
       "    </tr>\n",
       "    <tr>\n",
       "      <th>1</th>\n",
       "      <td>0</td>\n",
       "      <td>77.0</td>\n",
       "      <td>95.0</td>\n",
       "      <td>83.0</td>\n",
       "      <td>150.5</td>\n",
       "    </tr>\n",
       "    <tr>\n",
       "      <th>2</th>\n",
       "      <td>0</td>\n",
       "      <td>77.0</td>\n",
       "      <td>95.0</td>\n",
       "      <td>83.0</td>\n",
       "      <td>150.5</td>\n",
       "    </tr>\n",
       "    <tr>\n",
       "      <th>3</th>\n",
       "      <td>0</td>\n",
       "      <td>128.5</td>\n",
       "      <td>138.0</td>\n",
       "      <td>121.5</td>\n",
       "      <td>140.0</td>\n",
       "    </tr>\n",
       "    <tr>\n",
       "      <th>4</th>\n",
       "      <td>0</td>\n",
       "      <td>108.0</td>\n",
       "      <td>123.5</td>\n",
       "      <td>101.5</td>\n",
       "      <td>152.5</td>\n",
       "    </tr>\n",
       "    <tr>\n",
       "      <th>...</th>\n",
       "      <td>...</td>\n",
       "      <td>...</td>\n",
       "      <td>...</td>\n",
       "      <td>...</td>\n",
       "      <td>...</td>\n",
       "    </tr>\n",
       "    <tr>\n",
       "      <th>70315</th>\n",
       "      <td>2343</td>\n",
       "      <td>128.0</td>\n",
       "      <td>139.5</td>\n",
       "      <td>104.0</td>\n",
       "      <td>178.0</td>\n",
       "    </tr>\n",
       "    <tr>\n",
       "      <th>70316</th>\n",
       "      <td>2343</td>\n",
       "      <td>127.5</td>\n",
       "      <td>140.0</td>\n",
       "      <td>106.5</td>\n",
       "      <td>174.0</td>\n",
       "    </tr>\n",
       "    <tr>\n",
       "      <th>70317</th>\n",
       "      <td>2343</td>\n",
       "      <td>171.5</td>\n",
       "      <td>173.5</td>\n",
       "      <td>164.0</td>\n",
       "      <td>131.0</td>\n",
       "    </tr>\n",
       "    <tr>\n",
       "      <th>70318</th>\n",
       "      <td>2343</td>\n",
       "      <td>171.5</td>\n",
       "      <td>173.5</td>\n",
       "      <td>164.0</td>\n",
       "      <td>131.0</td>\n",
       "    </tr>\n",
       "    <tr>\n",
       "      <th>70319</th>\n",
       "      <td>2343</td>\n",
       "      <td>173.5</td>\n",
       "      <td>175.5</td>\n",
       "      <td>166.5</td>\n",
       "      <td>129.5</td>\n",
       "    </tr>\n",
       "  </tbody>\n",
       "</table>\n",
       "<p>70320 rows × 5 columns</p>\n",
       "</div>"
      ],
      "text/plain": [
       "       level_0  band1  band2  band3  band4\n",
       "0            0   94.5  111.0   92.5  159.0\n",
       "1            0   77.0   95.0   83.0  150.5\n",
       "2            0   77.0   95.0   83.0  150.5\n",
       "3            0  128.5  138.0  121.5  140.0\n",
       "4            0  108.0  123.5  101.5  152.5\n",
       "...        ...    ...    ...    ...    ...\n",
       "70315     2343  128.0  139.5  104.0  178.0\n",
       "70316     2343  127.5  140.0  106.5  174.0\n",
       "70317     2343  171.5  173.5  164.0  131.0\n",
       "70318     2343  171.5  173.5  164.0  131.0\n",
       "70319     2343  173.5  175.5  166.5  129.5\n",
       "\n",
       "[70320 rows x 5 columns]"
      ]
     },
     "execution_count": 22,
     "metadata": {},
     "output_type": "execute_result"
    }
   ],
   "source": [
    "join_df"
   ]
  },
  {
   "cell_type": "code",
   "execution_count": 23,
   "id": "624f7c18-67e3-4d0c-a7a4-f0ceb566d31c",
   "metadata": {},
   "outputs": [],
   "source": [
    "join_df_valid = join_df.dropna(how='any',axis=0) "
   ]
  },
  {
   "cell_type": "code",
   "execution_count": 24,
   "id": "07447495-790b-433d-b8c0-4ad69efbeb97",
   "metadata": {},
   "outputs": [],
   "source": [
    "join_df_valid = join_df_valid.drop(['level_0'], axis=1)"
   ]
  },
  {
   "cell_type": "code",
   "execution_count": 25,
   "id": "3dad5b9d-9e46-4942-9f95-e3f36ba26f8c",
   "metadata": {},
   "outputs": [],
   "source": [
    "join_df_valid['class'] = 1"
   ]
  },
  {
   "cell_type": "code",
   "execution_count": 26,
   "id": "a5b81b0a-fa72-4cf9-a1bb-c5797bfd6927",
   "metadata": {},
   "outputs": [
    {
     "data": {
      "text/plain": [
       "False"
      ]
     },
     "execution_count": 26,
     "metadata": {},
     "output_type": "execute_result"
    }
   ],
   "source": [
    "join_df_valid.isnull().values.any()"
   ]
  },
  {
   "cell_type": "code",
   "execution_count": 27,
   "id": "bc226cdd-d941-47a8-a04a-161b7a2f2e3d",
   "metadata": {},
   "outputs": [],
   "source": [
    "inst = DL(image = img, endmembers = join_df_valid)"
   ]
  },
  {
   "cell_type": "code",
   "execution_count": 29,
   "id": "2b83a7a1-ed4b-4317-87e9-35312385e62c",
   "metadata": {},
   "outputs": [
    {
     "ename": "SyntaxError",
     "evalue": "invalid syntax (1221396191.py, line 4)",
     "output_type": "error",
     "traceback": [
      "\u001b[1;36m  Cell \u001b[1;32mIn[29], line 4\u001b[1;36m\u001b[0m\n\u001b[1;33m    input_shape = (,4),\u001b[0m\n\u001b[1;37m                   ^\u001b[0m\n\u001b[1;31mSyntaxError\u001b[0m\u001b[1;31m:\u001b[0m invalid syntax\n"
     ]
    }
   ],
   "source": [
    "fc = inst.FullyConnected(hidden_layers = 2,\n",
    "                         hidden_units = [64, 16, 8, 8],\n",
    "                         output_units = 4,\n",
    "                         input_shape = (2,),\n",
    "                         epochs = 2,\n",
    "                         batch_size = 32,\n",
    "                         training_split = 0.8)"
   ]
  }
 ],
 "metadata": {
  "kernelspec": {
   "display_name": "Python 3 (ipykernel)",
   "language": "python",
   "name": "python3"
  },
  "language_info": {
   "codemirror_mode": {
    "name": "ipython",
    "version": 3
   },
   "file_extension": ".py",
   "mimetype": "text/x-python",
   "name": "python",
   "nbconvert_exporter": "python",
   "pygments_lexer": "ipython3",
   "version": "3.10.13"
  }
 },
 "nbformat": 4,
 "nbformat_minor": 5
}
