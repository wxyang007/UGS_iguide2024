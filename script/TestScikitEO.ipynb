{
 "cells": [
  {
   "cell_type": "code",
   "execution_count": 1,
   "id": "f90da89d",
   "metadata": {},
   "outputs": [
    {
     "name": "stdout",
     "output_type": "stream",
     "text": [
      "Collecting scikeo\n",
      "  Downloading scikeo-0.2.32-py2.py3-none-any.whl.metadata (10 kB)\n",
      "Requirement already satisfied: tensorflow in /opt/anaconda3/envs/py10/lib/python3.10/site-packages (from scikeo) (2.16.2)\n",
      "Requirement already satisfied: pandas in /opt/anaconda3/envs/py10/lib/python3.10/site-packages (from scikeo) (2.0.3)\n",
      "Requirement already satisfied: matplotlib in /opt/anaconda3/envs/py10/lib/python3.10/site-packages (from scikeo) (3.7.2)\n",
      "Requirement already satisfied: rasterio in /opt/anaconda3/envs/py10/lib/python3.10/site-packages (from scikeo) (1.2.10)\n",
      "Collecting seaborn (from scikeo)\n",
      "  Downloading seaborn-0.13.2-py3-none-any.whl.metadata (5.4 kB)\n",
      "Requirement already satisfied: statsmodels in /opt/anaconda3/envs/py10/lib/python3.10/site-packages (from scikeo) (0.14.0)\n",
      "Requirement already satisfied: scikit-learn in /opt/anaconda3/envs/py10/lib/python3.10/site-packages (from scikeo) (1.2.2)\n",
      "Requirement already satisfied: scipy in /opt/anaconda3/envs/py10/lib/python3.10/site-packages (from scikeo) (1.11.2)\n",
      "Collecting pytest (from scikeo)\n",
      "  Downloading pytest-8.3.2-py3-none-any.whl.metadata (7.5 kB)\n",
      "Collecting dbfread (from scikeo)\n",
      "  Downloading dbfread-2.0.7-py2.py3-none-any.whl.metadata (3.3 kB)\n",
      "Requirement already satisfied: fiona in /opt/anaconda3/envs/py10/lib/python3.10/site-packages (from scikeo) (1.9.4.post1)\n",
      "Requirement already satisfied: geopandas in /opt/anaconda3/envs/py10/lib/python3.10/site-packages (from scikeo) (0.13.2)\n",
      "Requirement already satisfied: numpy in /opt/anaconda3/envs/py10/lib/python3.10/site-packages (from scikeo) (1.25.0)\n",
      "Requirement already satisfied: attrs>=19.2.0 in /opt/anaconda3/envs/py10/lib/python3.10/site-packages (from fiona->scikeo) (23.1.0)\n",
      "Requirement already satisfied: certifi in /opt/anaconda3/envs/py10/lib/python3.10/site-packages (from fiona->scikeo) (2023.5.7)\n",
      "Requirement already satisfied: click~=8.0 in /opt/anaconda3/envs/py10/lib/python3.10/site-packages (from fiona->scikeo) (8.1.3)\n",
      "Requirement already satisfied: click-plugins>=1.0 in /opt/anaconda3/envs/py10/lib/python3.10/site-packages (from fiona->scikeo) (1.1.1)\n",
      "Requirement already satisfied: cligj>=0.5 in /opt/anaconda3/envs/py10/lib/python3.10/site-packages (from fiona->scikeo) (0.7.2)\n",
      "Requirement already satisfied: six in /opt/anaconda3/envs/py10/lib/python3.10/site-packages (from fiona->scikeo) (1.16.0)\n",
      "Requirement already satisfied: packaging in /opt/anaconda3/envs/py10/lib/python3.10/site-packages (from geopandas->scikeo) (23.1)\n",
      "Requirement already satisfied: pyproj>=3.0.1 in /opt/anaconda3/envs/py10/lib/python3.10/site-packages (from geopandas->scikeo) (3.4.1)\n",
      "Requirement already satisfied: shapely>=1.7.1 in /opt/anaconda3/envs/py10/lib/python3.10/site-packages (from geopandas->scikeo) (1.8.2)\n",
      "Requirement already satisfied: python-dateutil>=2.8.2 in /opt/anaconda3/envs/py10/lib/python3.10/site-packages (from pandas->scikeo) (2.8.2)\n",
      "Requirement already satisfied: pytz>=2020.1 in /opt/anaconda3/envs/py10/lib/python3.10/site-packages (from pandas->scikeo) (2023.3)\n",
      "Requirement already satisfied: tzdata>=2022.1 in /opt/anaconda3/envs/py10/lib/python3.10/site-packages (from pandas->scikeo) (2023.3)\n",
      "Requirement already satisfied: contourpy>=1.0.1 in /opt/anaconda3/envs/py10/lib/python3.10/site-packages (from matplotlib->scikeo) (1.1.0)\n",
      "Requirement already satisfied: cycler>=0.10 in /opt/anaconda3/envs/py10/lib/python3.10/site-packages (from matplotlib->scikeo) (0.11.0)\n",
      "Requirement already satisfied: fonttools>=4.22.0 in /opt/anaconda3/envs/py10/lib/python3.10/site-packages (from matplotlib->scikeo) (4.40.0)\n",
      "Requirement already satisfied: kiwisolver>=1.0.1 in /opt/anaconda3/envs/py10/lib/python3.10/site-packages (from matplotlib->scikeo) (1.4.4)\n",
      "Requirement already satisfied: pillow>=6.2.0 in /opt/anaconda3/envs/py10/lib/python3.10/site-packages (from matplotlib->scikeo) (10.0.0)\n",
      "Requirement already satisfied: pyparsing<3.1,>=2.3.1 in /opt/anaconda3/envs/py10/lib/python3.10/site-packages (from matplotlib->scikeo) (3.0.9)\n",
      "Collecting iniconfig (from pytest->scikeo)\n",
      "  Using cached iniconfig-2.0.0-py3-none-any.whl.metadata (2.6 kB)\n",
      "Collecting pluggy<2,>=1.5 (from pytest->scikeo)\n",
      "  Using cached pluggy-1.5.0-py3-none-any.whl.metadata (4.8 kB)\n",
      "Requirement already satisfied: exceptiongroup>=1.0.0rc8 in /opt/anaconda3/envs/py10/lib/python3.10/site-packages (from pytest->scikeo) (1.1.2)\n",
      "Collecting tomli>=1 (from pytest->scikeo)\n",
      "  Using cached tomli-2.0.1-py3-none-any.whl.metadata (8.9 kB)\n",
      "Requirement already satisfied: affine in /opt/anaconda3/envs/py10/lib/python3.10/site-packages (from rasterio->scikeo) (2.4.0)\n",
      "Requirement already satisfied: snuggs>=1.4.1 in /opt/anaconda3/envs/py10/lib/python3.10/site-packages (from rasterio->scikeo) (1.4.7)\n",
      "Requirement already satisfied: setuptools in /opt/anaconda3/envs/py10/lib/python3.10/site-packages (from rasterio->scikeo) (59.6.0)\n",
      "Requirement already satisfied: joblib>=1.1.1 in /opt/anaconda3/envs/py10/lib/python3.10/site-packages (from scikit-learn->scikeo) (1.3.2)\n",
      "Requirement already satisfied: threadpoolctl>=2.0.0 in /opt/anaconda3/envs/py10/lib/python3.10/site-packages (from scikit-learn->scikeo) (3.5.0)\n",
      "Requirement already satisfied: patsy>=0.5.2 in /opt/anaconda3/envs/py10/lib/python3.10/site-packages (from statsmodels->scikeo) (0.5.3)\n",
      "Requirement already satisfied: absl-py>=1.0.0 in /opt/anaconda3/envs/py10/lib/python3.10/site-packages (from tensorflow->scikeo) (2.1.0)\n",
      "Requirement already satisfied: astunparse>=1.6.0 in /opt/anaconda3/envs/py10/lib/python3.10/site-packages (from tensorflow->scikeo) (1.6.3)\n",
      "Requirement already satisfied: flatbuffers>=23.5.26 in /opt/anaconda3/envs/py10/lib/python3.10/site-packages (from tensorflow->scikeo) (24.3.25)\n",
      "Requirement already satisfied: gast!=0.5.0,!=0.5.1,!=0.5.2,>=0.2.1 in /opt/anaconda3/envs/py10/lib/python3.10/site-packages (from tensorflow->scikeo) (0.6.0)\n",
      "Requirement already satisfied: google-pasta>=0.1.1 in /opt/anaconda3/envs/py10/lib/python3.10/site-packages (from tensorflow->scikeo) (0.2.0)\n",
      "Requirement already satisfied: h5py>=3.10.0 in /opt/anaconda3/envs/py10/lib/python3.10/site-packages (from tensorflow->scikeo) (3.11.0)\n",
      "Requirement already satisfied: libclang>=13.0.0 in /opt/anaconda3/envs/py10/lib/python3.10/site-packages (from tensorflow->scikeo) (18.1.1)\n",
      "Requirement already satisfied: ml-dtypes~=0.3.1 in /opt/anaconda3/envs/py10/lib/python3.10/site-packages (from tensorflow->scikeo) (0.3.2)\n",
      "Requirement already satisfied: opt-einsum>=2.3.2 in /opt/anaconda3/envs/py10/lib/python3.10/site-packages (from tensorflow->scikeo) (3.3.0)\n",
      "Requirement already satisfied: protobuf!=4.21.0,!=4.21.1,!=4.21.2,!=4.21.3,!=4.21.4,!=4.21.5,<5.0.0dev,>=3.20.3 in /opt/anaconda3/envs/py10/lib/python3.10/site-packages (from tensorflow->scikeo) (4.23.3)\n",
      "Requirement already satisfied: requests<3,>=2.21.0 in /opt/anaconda3/envs/py10/lib/python3.10/site-packages (from tensorflow->scikeo) (2.31.0)\n",
      "Requirement already satisfied: termcolor>=1.1.0 in /opt/anaconda3/envs/py10/lib/python3.10/site-packages (from tensorflow->scikeo) (2.4.0)\n",
      "Requirement already satisfied: typing-extensions>=3.6.6 in /opt/anaconda3/envs/py10/lib/python3.10/site-packages (from tensorflow->scikeo) (4.12.2)\n",
      "Requirement already satisfied: wrapt>=1.11.0 in /opt/anaconda3/envs/py10/lib/python3.10/site-packages (from tensorflow->scikeo) (1.16.0)\n",
      "Requirement already satisfied: grpcio<2.0,>=1.24.3 in /opt/anaconda3/envs/py10/lib/python3.10/site-packages (from tensorflow->scikeo) (1.65.4)\n",
      "Requirement already satisfied: tensorboard<2.17,>=2.16 in /opt/anaconda3/envs/py10/lib/python3.10/site-packages (from tensorflow->scikeo) (2.16.2)\n",
      "Requirement already satisfied: keras>=3.0.0 in /opt/anaconda3/envs/py10/lib/python3.10/site-packages (from tensorflow->scikeo) (3.4.1)\n",
      "Requirement already satisfied: tensorflow-io-gcs-filesystem>=0.23.1 in /opt/anaconda3/envs/py10/lib/python3.10/site-packages (from tensorflow->scikeo) (0.37.1)\n",
      "Requirement already satisfied: wheel<1.0,>=0.23.0 in /opt/anaconda3/envs/py10/lib/python3.10/site-packages (from astunparse>=1.6.0->tensorflow->scikeo) (0.44.0)\n",
      "Requirement already satisfied: rich in /opt/anaconda3/envs/py10/lib/python3.10/site-packages (from keras>=3.0.0->tensorflow->scikeo) (13.7.1)\n",
      "Requirement already satisfied: namex in /opt/anaconda3/envs/py10/lib/python3.10/site-packages (from keras>=3.0.0->tensorflow->scikeo) (0.0.8)\n",
      "Requirement already satisfied: optree in /opt/anaconda3/envs/py10/lib/python3.10/site-packages (from keras>=3.0.0->tensorflow->scikeo) (0.12.1)\n"
     ]
    },
    {
     "name": "stdout",
     "output_type": "stream",
     "text": [
      "Requirement already satisfied: charset-normalizer<4,>=2 in /opt/anaconda3/envs/py10/lib/python3.10/site-packages (from requests<3,>=2.21.0->tensorflow->scikeo) (3.1.0)\n",
      "Requirement already satisfied: idna<4,>=2.5 in /opt/anaconda3/envs/py10/lib/python3.10/site-packages (from requests<3,>=2.21.0->tensorflow->scikeo) (3.4)\n",
      "Requirement already satisfied: urllib3<3,>=1.21.1 in /opt/anaconda3/envs/py10/lib/python3.10/site-packages (from requests<3,>=2.21.0->tensorflow->scikeo) (1.26.16)\n",
      "Requirement already satisfied: markdown>=2.6.8 in /opt/anaconda3/envs/py10/lib/python3.10/site-packages (from tensorboard<2.17,>=2.16->tensorflow->scikeo) (3.6)\n",
      "Requirement already satisfied: tensorboard-data-server<0.8.0,>=0.7.0 in /opt/anaconda3/envs/py10/lib/python3.10/site-packages (from tensorboard<2.17,>=2.16->tensorflow->scikeo) (0.7.2)\n",
      "Requirement already satisfied: werkzeug>=1.0.1 in /opt/anaconda3/envs/py10/lib/python3.10/site-packages (from tensorboard<2.17,>=2.16->tensorflow->scikeo) (3.0.3)\n",
      "Requirement already satisfied: MarkupSafe>=2.1.1 in /opt/anaconda3/envs/py10/lib/python3.10/site-packages (from werkzeug>=1.0.1->tensorboard<2.17,>=2.16->tensorflow->scikeo) (2.1.3)\n",
      "Requirement already satisfied: markdown-it-py>=2.2.0 in /opt/anaconda3/envs/py10/lib/python3.10/site-packages (from rich->keras>=3.0.0->tensorflow->scikeo) (3.0.0)\n",
      "Requirement already satisfied: pygments<3.0.0,>=2.13.0 in /opt/anaconda3/envs/py10/lib/python3.10/site-packages (from rich->keras>=3.0.0->tensorflow->scikeo) (2.15.1)\n",
      "Requirement already satisfied: mdurl~=0.1 in /opt/anaconda3/envs/py10/lib/python3.10/site-packages (from markdown-it-py>=2.2.0->rich->keras>=3.0.0->tensorflow->scikeo) (0.1.2)\n",
      "Downloading scikeo-0.2.32-py2.py3-none-any.whl (38 kB)\n",
      "Downloading dbfread-2.0.7-py2.py3-none-any.whl (20 kB)\n",
      "Downloading pytest-8.3.2-py3-none-any.whl (341 kB)\n",
      "Downloading seaborn-0.13.2-py3-none-any.whl (294 kB)\n",
      "Using cached pluggy-1.5.0-py3-none-any.whl (20 kB)\n",
      "Using cached tomli-2.0.1-py3-none-any.whl (12 kB)\n",
      "Using cached iniconfig-2.0.0-py3-none-any.whl (5.9 kB)\n",
      "Installing collected packages: dbfread, tomli, pluggy, iniconfig, pytest, seaborn, scikeo\n",
      "Successfully installed dbfread-2.0.7 iniconfig-2.0.0 pluggy-1.5.0 pytest-8.3.2 scikeo-0.2.32 seaborn-0.13.2 tomli-2.0.1\n"
     ]
    }
   ],
   "source": [
    "# !pip install scikeo"
   ]
  },
  {
   "cell_type": "code",
   "execution_count": 2,
   "id": "b2c9b86f",
   "metadata": {},
   "outputs": [
    {
     "ename": "ImportError",
     "evalue": "dlopen(/opt/anaconda3/envs/py10/lib/python3.10/site-packages/rasterio/_base.cpython-310-darwin.so, 0x0002): Symbol not found: _ZSTD_compressBound\n  Referenced from: <C8441800-341E-3CB0-9D0F-53907A12FCD4> /opt/anaconda3/envs/py10/lib/libgdal.30.dylib\n  Expected in:     <8F9D674B-86E4-344E-B1CF-865220ACDD68> /opt/anaconda3/envs/py10/lib/libblosc.1.21.5.dylib",
     "output_type": "error",
     "traceback": [
      "\u001b[0;31m---------------------------------------------------------------------------\u001b[0m",
      "\u001b[0;31mImportError\u001b[0m                               Traceback (most recent call last)",
      "Cell \u001b[0;32mIn[2], line 1\u001b[0m\n\u001b[0;32m----> 1\u001b[0m \u001b[38;5;28;01mimport\u001b[39;00m \u001b[38;5;21;01mrasterio\u001b[39;00m\n\u001b[1;32m      2\u001b[0m \u001b[38;5;28;01mimport\u001b[39;00m \u001b[38;5;21;01mnumpy\u001b[39;00m \u001b[38;5;28;01mas\u001b[39;00m \u001b[38;5;21;01mnp\u001b[39;00m\n\u001b[1;32m      3\u001b[0m \u001b[38;5;28;01mfrom\u001b[39;00m \u001b[38;5;21;01mscikeo\u001b[39;00m\u001b[38;5;21;01m.\u001b[39;00m\u001b[38;5;21;01mmla\u001b[39;00m \u001b[38;5;28;01mimport\u001b[39;00m MLA\n",
      "File \u001b[0;32m/opt/anaconda3/envs/py10/lib/python3.10/site-packages/rasterio/__init__.py:9\u001b[0m\n\u001b[1;32m      6\u001b[0m \u001b[38;5;28;01mfrom\u001b[39;00m \u001b[38;5;21;01mlogging\u001b[39;00m \u001b[38;5;28;01mimport\u001b[39;00m NullHandler\n\u001b[1;32m      7\u001b[0m \u001b[38;5;28;01mfrom\u001b[39;00m \u001b[38;5;21;01mpathlib\u001b[39;00m \u001b[38;5;28;01mimport\u001b[39;00m Path\n\u001b[0;32m----> 9\u001b[0m \u001b[38;5;28;01mfrom\u001b[39;00m \u001b[38;5;21;01mrasterio\u001b[39;00m\u001b[38;5;21;01m.\u001b[39;00m\u001b[38;5;21;01m_base\u001b[39;00m \u001b[38;5;28;01mimport\u001b[39;00m gdal_version\n\u001b[1;32m     10\u001b[0m \u001b[38;5;28;01mfrom\u001b[39;00m \u001b[38;5;21;01mrasterio\u001b[39;00m\u001b[38;5;21;01m.\u001b[39;00m\u001b[38;5;21;01mdrivers\u001b[39;00m \u001b[38;5;28;01mimport\u001b[39;00m driver_from_extension, is_blacklisted\n\u001b[1;32m     11\u001b[0m \u001b[38;5;28;01mfrom\u001b[39;00m \u001b[38;5;21;01mrasterio\u001b[39;00m\u001b[38;5;21;01m.\u001b[39;00m\u001b[38;5;21;01mdtypes\u001b[39;00m \u001b[38;5;28;01mimport\u001b[39;00m (\n\u001b[1;32m     12\u001b[0m     bool_,\n\u001b[1;32m     13\u001b[0m     ubyte,\n\u001b[0;32m   (...)\u001b[0m\n\u001b[1;32m     25\u001b[0m     check_dtype,\n\u001b[1;32m     26\u001b[0m )\n",
      "\u001b[0;31mImportError\u001b[0m: dlopen(/opt/anaconda3/envs/py10/lib/python3.10/site-packages/rasterio/_base.cpython-310-darwin.so, 0x0002): Symbol not found: _ZSTD_compressBound\n  Referenced from: <C8441800-341E-3CB0-9D0F-53907A12FCD4> /opt/anaconda3/envs/py10/lib/libgdal.30.dylib\n  Expected in:     <8F9D674B-86E4-344E-B1CF-865220ACDD68> /opt/anaconda3/envs/py10/lib/libblosc.1.21.5.dylib"
     ]
    }
   ],
   "source": [
    "import rasterio\n",
    "import numpy as np\n",
    "from scikeo.mla import MLA\n",
    "import matplotlib.pyplot as plt\n",
    "from dbfread import DBF\n",
    "import matplotlib as mpl\n",
    "import pandas as pd"
   ]
  },
  {
   "cell_type": "code",
   "execution_count": null,
   "id": "8aee762b",
   "metadata": {},
   "outputs": [],
   "source": []
  }
 ],
 "metadata": {
  "kernelspec": {
   "display_name": "Python 3 (ipykernel)",
   "language": "python",
   "name": "python3"
  },
  "language_info": {
   "codemirror_mode": {
    "name": "ipython",
    "version": 3
   },
   "file_extension": ".py",
   "mimetype": "text/x-python",
   "name": "python",
   "nbconvert_exporter": "python",
   "pygments_lexer": "ipython3",
   "version": "3.10.12"
  }
 },
 "nbformat": 4,
 "nbformat_minor": 5
}
