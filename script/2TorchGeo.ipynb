{
 "cells": [
  {
   "cell_type": "markdown",
   "id": "80574384-3dc9-4545-a188-e29a6eb2c884",
   "metadata": {},
   "source": [
    "# Build an image segementation model with torchgeo"
   ]
  },
  {
   "cell_type": "markdown",
   "id": "cb654d3e-7eac-4900-9008-d1f1cb8b2cb7",
   "metadata": {},
   "source": [
    "Author: Wenxin Yang, 08/12/2024\n",
    "\n",
    "<b>Purpose of script:</b>\n",
    "\n",
    "Using the training samples (images and annotations), we build a unet model to extract parks with torchgeo.\n",
    "\n",
    "<b>References:</b>\n",
    "\n",
    "* [A series of online tutorials by Maurício Cordeiro](https://www.geocorner.net/post/artificial-intelligence-for-geospatial-analysis-with-pytorch-s-torchgeo-part-1)\n",
    "* [Official GitHub of torchgeo](https://github.com/microsoft/torchgeo/tree/main)"
   ]
  },
  {
   "cell_type": "code",
   "execution_count": 1,
   "id": "3462aafb",
   "metadata": {},
   "outputs": [],
   "source": [
    "import os\n",
    "import tempfile\n",
    "from urllib.parse import urlparse\n",
    "import math\n",
    "import splitfolders\n",
    "\n",
    "import matplotlib.pyplot as plt\n",
    "# import planetary_computer\n",
    "# import pystac\n",
    "\n",
    "%matplotlib inline\n",
    "plt.rcParams[\"figure.figsize\"] = (12, 12)\n",
    "\n",
    "import torch\n",
    "from torch.utils.data import DataLoader\n",
    "from torchgeo.datasets import RasterDataset, stack_samples, unbind_samples\n",
    "from torchgeo.datasets.utils import download_url\n",
    "from torchgeo.samplers import RandomGeoSampler, Units"
   ]
  },
  {
   "cell_type": "code",
   "execution_count": 2,
   "id": "3981f502",
   "metadata": {},
   "outputs": [],
   "source": [
    "# checking both insallations\n",
    "import rasterio as rio\n",
    "import torchgeo\n",
    "\n",
    "from pathlib import  Path\n",
    "import xarray as xr"
   ]
  },
  {
   "cell_type": "markdown",
   "id": "d84e70f5-5db7-4491-b2f0-9d22db877f7d",
   "metadata": {},
   "source": [
    "### 1. Prepare data folders"
   ]
  },
  {
   "cell_type": "markdown",
   "id": "34d6f657-2a10-4ba1-9d17-11fcc35c967d",
   "metadata": {},
   "source": [
    "Get paths to our sample dataset"
   ]
  },
  {
   "cell_type": "code",
   "execution_count": 3,
   "id": "a6496100-ca34-4876-82a7-83e3f000da87",
   "metadata": {},
   "outputs": [
    {
     "data": {
      "text/plain": [
       "'C:\\\\Users\\\\wenxinyang\\\\Desktop\\\\GitHub\\\\UGS_iguide2024\\\\script'"
      ]
     },
     "execution_count": 3,
     "metadata": {},
     "output_type": "execute_result"
    }
   ],
   "source": [
    "os.getcwd()"
   ]
  },
  {
   "cell_type": "code",
   "execution_count": 4,
   "id": "2555ab27-5da3-4f55-befb-2f9b2b3a6dd9",
   "metadata": {},
   "outputs": [],
   "source": [
    "# make sure the path to our training samples exist\n",
    "root = Path('..\\\\data\\\\training_samples')\n",
    "assert root.exists()"
   ]
  },
  {
   "cell_type": "markdown",
   "id": "b1f9eeed-c815-4685-8b28-05a9245c1ea2",
   "metadata": {},
   "source": [
    "As discussed briefly in the last notebook, there are some na values not covered by the image (e.g., whether it being out of the extent of the current image or it being waterbodies). Here, we are removing any chips with na values. Admittedly, this might not be the best way."
   ]
  },
  {
   "cell_type": "code",
   "execution_count": 5,
   "id": "abe51a8c-720b-49c8-9434-fad4fa99b355",
   "metadata": {},
   "outputs": [
    {
     "name": "stdout",
     "output_type": "stream",
     "text": [
      "0\n"
     ]
    }
   ],
   "source": [
    "# remove any images with NA values in the dataset\n",
    "n = 0\n",
    "for filename in os.listdir(os.path.join(root, 'images')):\n",
    "    path_file = os.path.join(root, 'images', filename)\n",
    "    file = rio.open(path_file)\n",
    "    test_value = file.read(1).max()\n",
    "    file.close()\n",
    "    if math.isnan(test_value):\n",
    "        print(filename)\n",
    "        n = n + 1\n",
    "        os.remove(os.path.join(root, 'images', filename))\n",
    "\n",
    "print(n)"
   ]
  },
  {
   "cell_type": "code",
   "execution_count": 6,
   "id": "f35c23d2-3dd8-4165-9303-a2758a74f3ad",
   "metadata": {},
   "outputs": [
    {
     "data": {
      "text/plain": [
       "415"
      ]
     },
     "execution_count": 6,
     "metadata": {},
     "output_type": "execute_result"
    }
   ],
   "source": [
    "img_ids = [x for x in os.listdir(os.path.join(root, 'images')) if x.endswith('.tif')]\n",
    "len(img_ids)"
   ]
  },
  {
   "cell_type": "code",
   "execution_count": 7,
   "id": "aad156e5-06f3-4e2e-aa5d-128b5f5e8c6a",
   "metadata": {},
   "outputs": [],
   "source": [
    "# we also remove unmatched files\n",
    "for filename in os.listdir(os.path.join(root, 'annotations')):\n",
    "    if filename not in img_ids:\n",
    "        print(filename)\n",
    "        os.remove(os.path.join(root, 'annotations', filename))"
   ]
  },
  {
   "cell_type": "code",
   "execution_count": 8,
   "id": "9e6428b8-cb15-4b9c-8902-52ea4429fe35",
   "metadata": {},
   "outputs": [],
   "source": [
    "sample_imgs = list((root/'images').glob('*.tif'))\n",
    "sample_masks = list((root/'annotations').glob('*.tif'))"
   ]
  },
  {
   "cell_type": "code",
   "execution_count": 9,
   "id": "568188b8-6436-406f-bce4-ecd78beab085",
   "metadata": {},
   "outputs": [
    {
     "data": {
      "text/plain": [
       "415"
      ]
     },
     "execution_count": 9,
     "metadata": {},
     "output_type": "execute_result"
    }
   ],
   "source": [
    "# see how many chips we have \n",
    "len(sample_masks)"
   ]
  },
  {
   "cell_type": "code",
   "execution_count": 10,
   "id": "1041b148-e8b4-4bcf-8096-d029242a59c6",
   "metadata": {},
   "outputs": [
    {
     "data": {
      "text/plain": [
       "True"
      ]
     },
     "execution_count": 10,
     "metadata": {},
     "output_type": "execute_result"
    }
   ],
   "source": [
    "# double check to make sure we have the same amount of images and annotations\n",
    "len(sample_imgs) == len(sample_masks)"
   ]
  },
  {
   "cell_type": "markdown",
   "id": "82bc005c-77ca-4741-a125-5bd85aa56cf0",
   "metadata": {},
   "source": [
    "Let's split the dataset into train, validation, and test datasets"
   ]
  },
  {
   "cell_type": "code",
   "execution_count": 11,
   "id": "3275f2ff-c06a-402b-9af5-84b9b81b84b9",
   "metadata": {},
   "outputs": [],
   "source": [
    "# As the images and corresponding masks are matched by name, we will sort both lists to keep them synchronized.\n",
    "sample_imgs.sort(); sample_masks.sort()"
   ]
  },
  {
   "cell_type": "code",
   "execution_count": 17,
   "id": "bfcf771c-ffed-45a2-b0fc-dc04b7b6eb40",
   "metadata": {},
   "outputs": [
    {
     "name": "stderr",
     "output_type": "stream",
     "text": [
      "Copying files: 830 files [00:01, 703.08 files/s] \n"
     ]
    }
   ],
   "source": [
    "splitfolders.ratio(os.path.join(root), output=Path('..\\\\data\\\\experiment_1'),\n",
    "    seed=226, ratio=(.8, .1, .1), group_prefix=None, move=False) # default values"
   ]
  },
  {
   "cell_type": "markdown",
   "id": "42571253-6767-4b98-ace2-684133e1a0d2",
   "metadata": {},
   "source": [
    "Now let's move on to create inputs for the model"
   ]
  },
  {
   "cell_type": "code",
   "execution_count": 12,
   "id": "1de15379-cdd2-4fa7-ac63-4c6a8890d49a",
   "metadata": {},
   "outputs": [],
   "source": [
    "exp_folder = Path('..\\\\data\\\\experiment_1')\n",
    "exp_crs = 'epsg:26918'\n",
    "exp_res = 30"
   ]
  },
  {
   "cell_type": "code",
   "execution_count": 13,
   "id": "afa069d7-f624-4af3-ac8c-304f136d6416",
   "metadata": {},
   "outputs": [],
   "source": [
    "def scale(item: dict):\n",
    "    item['image'] = item['image'] / 10000\n",
    "    return item"
   ]
  },
  {
   "cell_type": "code",
   "execution_count": 14,
   "id": "b72f3a70-5527-4038-960e-8b92f426dbf0",
   "metadata": {
    "scrolled": true
   },
   "outputs": [],
   "source": [
    "train_imgs = RasterDataset(os.path.join(exp_folder, 'train', 'images'), crs=exp_crs, res=exp_res, transforms=scale)\n",
    "train_msks = RasterDataset(os.path.join(exp_folder, 'train', 'annotations'), crs=exp_crs, res=exp_res)\n",
    "\n",
    "valid_imgs = RasterDataset(os.path.join(exp_folder, 'val', 'images'), crs=exp_crs, res=exp_res, transforms=scale)\n",
    "valid_msks = RasterDataset(os.path.join(exp_folder, 'val', 'annotations'), crs=exp_crs, res=exp_res)"
   ]
  },
  {
   "cell_type": "code",
   "execution_count": 15,
   "id": "4a0b1a74-1ebd-4da4-97f1-cd1b7c6a86db",
   "metadata": {},
   "outputs": [
    {
     "data": {
      "text/plain": [
       "332"
      ]
     },
     "execution_count": 15,
     "metadata": {},
     "output_type": "execute_result"
    }
   ],
   "source": [
    "len(train_imgs)"
   ]
  },
  {
   "cell_type": "code",
   "execution_count": 16,
   "id": "3581f494-d707-43c2-9d22-a4862af18562",
   "metadata": {},
   "outputs": [
    {
     "data": {
      "text/plain": [
       "41"
      ]
     },
     "execution_count": 16,
     "metadata": {},
     "output_type": "execute_result"
    }
   ],
   "source": [
    "len(valid_imgs)"
   ]
  },
  {
   "cell_type": "code",
   "execution_count": 17,
   "id": "8a6292fd-c854-479a-ac30-c83ea6fa8ce2",
   "metadata": {},
   "outputs": [],
   "source": [
    "# IMPORTANT\n",
    "train_msks.is_image = False\n",
    "valid_msks.is_image = False\n",
    "\n",
    "train_dset = train_imgs & train_msks\n",
    "valid_dset = valid_imgs & valid_msks"
   ]
  },
  {
   "cell_type": "code",
   "execution_count": 18,
   "id": "8ffed2c3-e269-4fa4-965b-1c9561849c5a",
   "metadata": {},
   "outputs": [
    {
     "name": "stdout",
     "output_type": "stream",
     "text": [
      "IntersectionDataset Dataset\n",
      "    type: IntersectionDataset\n",
      "    bbox: BoundingBox(minx=-1547075.146921655, maxx=-1437998.5057360458, miny=3426936.12106045, maxy=3526592.039209696, mint=0.0, maxt=9.223372036854776e+18)\n",
      "    size: 5222\n"
     ]
    }
   ],
   "source": [
    "print(train_dset)"
   ]
  },
  {
   "cell_type": "code",
   "execution_count": 19,
   "id": "47f0381f-99fd-4ce7-98cb-453b9779e810",
   "metadata": {},
   "outputs": [],
   "source": [
    "train_sampler = RandomGeoSampler(train_imgs, size=(255, 255), length=10, units=Units.PIXELS)\n",
    "valid_sampler = RandomGeoSampler(valid_imgs, size=(255, 255), length=10, units=Units.PIXELS)"
   ]
  },
  {
   "cell_type": "code",
   "execution_count": 20,
   "id": "0e54c1e9-4d0e-4c7c-84fb-722b4350f13b",
   "metadata": {},
   "outputs": [
    {
     "data": {
      "text/plain": [
       "10"
      ]
     },
     "execution_count": 20,
     "metadata": {},
     "output_type": "execute_result"
    }
   ],
   "source": [
    "len(train_sampler)"
   ]
  },
  {
   "cell_type": "code",
   "execution_count": 21,
   "id": "aeecb4a1-e6ae-4c01-80fd-10c154298b61",
   "metadata": {},
   "outputs": [
    {
     "data": {
      "text/plain": [
       "(dict_keys(['crs', 'bbox', 'image', 'mask']),\n",
       " dict_keys(['crs', 'bbox', 'image', 'mask']))"
      ]
     },
     "execution_count": 21,
     "metadata": {},
     "output_type": "execute_result"
    }
   ],
   "source": [
    "train_dataloader = DataLoader(train_dset, sampler=train_sampler, batch_size=8, collate_fn=stack_samples)\n",
    "valid_dataloader = DataLoader(valid_dset, sampler=valid_sampler, batch_size=8, collate_fn=stack_samples)\n",
    "\n",
    "train_batch = next(iter(train_dataloader))\n",
    "valid_batch = next(iter(valid_dataloader))\n",
    "train_batch.keys(), valid_batch.keys()"
   ]
  },
  {
   "cell_type": "markdown",
   "id": "5a138530-9247-41da-851c-1e881eb29010",
   "metadata": {},
   "source": [
    "### 2. Normalize data"
   ]
  },
  {
   "cell_type": "code",
   "execution_count": 22,
   "id": "2b6fe332-30c8-4334-b86b-799fb786989d",
   "metadata": {},
   "outputs": [],
   "source": [
    "import rasterio as rio\n",
    "\n",
    "def calc_statistics(dset: RasterDataset):\n",
    "        \"\"\"\n",
    "        Calculate the statistics (mean and std) for the entire dataset\n",
    "        Warning: This is an approximation. The correct value should take into account the\n",
    "        mean for the whole dataset for computing individual stds.\n",
    "        For correctness I suggest checking: http://notmatthancock.github.io/2017/03/23/simple-batch-stat-updates.html\n",
    "        \"\"\"\n",
    "\n",
    "        # To avoid loading the entire dataset in memory, we will loop through each img\n",
    "        # The filenames will be retrieved from the dataset's rtree index\n",
    "        files = [item.object for item in dset.index.intersection(dset.index.bounds, objects=True)]\n",
    "\n",
    "        # Reseting statistics\n",
    "        accum_mean = 0\n",
    "        accum_std = 0\n",
    "\n",
    "        for file in files:\n",
    "            img = rio.open(file).read()/10000 #type: ignore\n",
    "            accum_mean += img.reshape((img.shape[0], -1)).mean(axis=1)\n",
    "            accum_std += img.reshape((img.shape[0], -1)).std(axis=1)\n",
    "\n",
    "        # at the end, we shall have 2 vectors with lenght n=chnls\n",
    "        # we will average them considering the number of images\n",
    "        return accum_mean / len(files), accum_std / len(files)"
   ]
  },
  {
   "cell_type": "code",
   "execution_count": 23,
   "id": "a2297c0d-a550-4582-8477-7e82a8daf4bc",
   "metadata": {},
   "outputs": [],
   "source": [
    "files = [item.object for item in train_imgs.index.intersection(train_imgs.index.bounds, objects = True)]"
   ]
  },
  {
   "cell_type": "code",
   "execution_count": 24,
   "id": "871222e3-037d-4110-bc06-c1285ba3d957",
   "metadata": {},
   "outputs": [
    {
     "name": "stdout",
     "output_type": "stream",
     "text": [
      "[0.01192544 0.01298434 0.01128159 0.01379109] [0.00345744 0.00295965 0.00308488 0.00306698]\n"
     ]
    }
   ],
   "source": [
    "mean, std = calc_statistics(train_imgs)\n",
    "print(mean, std)"
   ]
  },
  {
   "cell_type": "code",
   "execution_count": 25,
   "id": "9cb8e381-e6c8-4161-9c31-89724b6b8217",
   "metadata": {},
   "outputs": [],
   "source": [
    "class MyNormalize(torch.nn.Module):\n",
    "    def __init__(self, mean: list[float], stdev: list[float]):\n",
    "        super().__init__()\n",
    "\n",
    "        self.mean = torch.Tensor(mean)[:, None, None]\n",
    "        self.std = torch.Tensor(stdev)[:, None, None]\n",
    "\n",
    "    def forward(self, inputs: dict):\n",
    "\n",
    "        x = inputs[\"image\"][..., : len(self.mean), :, :]\n",
    "\n",
    "        # if batch\n",
    "        if inputs[\"image\"].ndim == 4:\n",
    "            x = (x - self.mean[None, ...]) / self.std[None, ...]\n",
    "\n",
    "        else:\n",
    "            x = (x - self.mean) / self.std\n",
    "\n",
    "        inputs[\"image\"][..., : len(self.mean), :, :] = x\n",
    "\n",
    "        return inputs\n",
    "\n",
    "    def revert(self, inputs: dict):\n",
    "        \"\"\"\n",
    "        De-normalize the batch.\n",
    "        Args:\n",
    "            inputs (dict): Dictionary with the 'image' key\n",
    "        \"\"\"\n",
    "\n",
    "        x = inputs[\"image\"][..., : len(self.mean), :, :]\n",
    "\n",
    "        # if batch\n",
    "        if x.ndim == 4:\n",
    "            x = inputs[\"image\"][:, : len(self.mean), ...]\n",
    "            x = x * self.std[None, ...] + self.mean[None, ...]\n",
    "        else:\n",
    "            x = x * self.std + self.mean\n",
    "\n",
    "        inputs[\"image\"][..., : len(self.mean), :, :] = x\n",
    "\n",
    "        return inputs"
   ]
  },
  {
   "cell_type": "code",
   "execution_count": 49,
   "id": "d4bcc7a0-3fbf-430b-bbe1-9483babae531",
   "metadata": {},
   "outputs": [],
   "source": [
    "# normalize = MyNormalize(mean=mean, stdev=std)\n",
    "# norm_batch = normalize(train_batch)\n",
    "# # plot_batch(norm_batch)\n",
    "\n",
    "# batch = normalize.revert(norm_batch)\n",
    "# # plot_batch(batch)"
   ]
  },
  {
   "cell_type": "markdown",
   "id": "1393af25-32cc-4961-a691-db9a6b0906cb",
   "metadata": {},
   "source": [
    "### 3. Train a segmentation model"
   ]
  },
  {
   "cell_type": "code",
   "execution_count": 26,
   "id": "e48dcf98-17cc-4b55-9900-f9fa3433e707",
   "metadata": {},
   "outputs": [
    {
     "data": {
      "text/plain": [
       "DeepLabV3(\n",
       "  (backbone): IntermediateLayerGetter(\n",
       "    (conv1): Conv2d(3, 64, kernel_size=(7, 7), stride=(2, 2), padding=(3, 3), bias=False)\n",
       "    (bn1): BatchNorm2d(64, eps=1e-05, momentum=0.1, affine=True, track_running_stats=True)\n",
       "    (relu): ReLU(inplace=True)\n",
       "    (maxpool): MaxPool2d(kernel_size=3, stride=2, padding=1, dilation=1, ceil_mode=False)\n",
       "    (layer1): Sequential(\n",
       "      (0): Bottleneck(\n",
       "        (conv1): Conv2d(64, 64, kernel_size=(1, 1), stride=(1, 1), bias=False)\n",
       "        (bn1): BatchNorm2d(64, eps=1e-05, momentum=0.1, affine=True, track_running_stats=True)\n",
       "        (conv2): Conv2d(64, 64, kernel_size=(3, 3), stride=(1, 1), padding=(1, 1), bias=False)\n",
       "        (bn2): BatchNorm2d(64, eps=1e-05, momentum=0.1, affine=True, track_running_stats=True)\n",
       "        (conv3): Conv2d(64, 256, kernel_size=(1, 1), stride=(1, 1), bias=False)\n",
       "        (bn3): BatchNorm2d(256, eps=1e-05, momentum=0.1, affine=True, track_running_stats=True)\n",
       "        (relu): ReLU(inplace=True)\n",
       "        (downsample): Sequential(\n",
       "          (0): Conv2d(64, 256, kernel_size=(1, 1), stride=(1, 1), bias=False)\n",
       "          (1): BatchNorm2d(256, eps=1e-05, momentum=0.1, affine=True, track_running_stats=True)\n",
       "        )\n",
       "      )\n",
       "      (1): Bottleneck(\n",
       "        (conv1): Conv2d(256, 64, kernel_size=(1, 1), stride=(1, 1), bias=False)\n",
       "        (bn1): BatchNorm2d(64, eps=1e-05, momentum=0.1, affine=True, track_running_stats=True)\n",
       "        (conv2): Conv2d(64, 64, kernel_size=(3, 3), stride=(1, 1), padding=(1, 1), bias=False)\n",
       "        (bn2): BatchNorm2d(64, eps=1e-05, momentum=0.1, affine=True, track_running_stats=True)\n",
       "        (conv3): Conv2d(64, 256, kernel_size=(1, 1), stride=(1, 1), bias=False)\n",
       "        (bn3): BatchNorm2d(256, eps=1e-05, momentum=0.1, affine=True, track_running_stats=True)\n",
       "        (relu): ReLU(inplace=True)\n",
       "      )\n",
       "      (2): Bottleneck(\n",
       "        (conv1): Conv2d(256, 64, kernel_size=(1, 1), stride=(1, 1), bias=False)\n",
       "        (bn1): BatchNorm2d(64, eps=1e-05, momentum=0.1, affine=True, track_running_stats=True)\n",
       "        (conv2): Conv2d(64, 64, kernel_size=(3, 3), stride=(1, 1), padding=(1, 1), bias=False)\n",
       "        (bn2): BatchNorm2d(64, eps=1e-05, momentum=0.1, affine=True, track_running_stats=True)\n",
       "        (conv3): Conv2d(64, 256, kernel_size=(1, 1), stride=(1, 1), bias=False)\n",
       "        (bn3): BatchNorm2d(256, eps=1e-05, momentum=0.1, affine=True, track_running_stats=True)\n",
       "        (relu): ReLU(inplace=True)\n",
       "      )\n",
       "    )\n",
       "    (layer2): Sequential(\n",
       "      (0): Bottleneck(\n",
       "        (conv1): Conv2d(256, 128, kernel_size=(1, 1), stride=(1, 1), bias=False)\n",
       "        (bn1): BatchNorm2d(128, eps=1e-05, momentum=0.1, affine=True, track_running_stats=True)\n",
       "        (conv2): Conv2d(128, 128, kernel_size=(3, 3), stride=(2, 2), padding=(1, 1), bias=False)\n",
       "        (bn2): BatchNorm2d(128, eps=1e-05, momentum=0.1, affine=True, track_running_stats=True)\n",
       "        (conv3): Conv2d(128, 512, kernel_size=(1, 1), stride=(1, 1), bias=False)\n",
       "        (bn3): BatchNorm2d(512, eps=1e-05, momentum=0.1, affine=True, track_running_stats=True)\n",
       "        (relu): ReLU(inplace=True)\n",
       "        (downsample): Sequential(\n",
       "          (0): Conv2d(256, 512, kernel_size=(1, 1), stride=(2, 2), bias=False)\n",
       "          (1): BatchNorm2d(512, eps=1e-05, momentum=0.1, affine=True, track_running_stats=True)\n",
       "        )\n",
       "      )\n",
       "      (1): Bottleneck(\n",
       "        (conv1): Conv2d(512, 128, kernel_size=(1, 1), stride=(1, 1), bias=False)\n",
       "        (bn1): BatchNorm2d(128, eps=1e-05, momentum=0.1, affine=True, track_running_stats=True)\n",
       "        (conv2): Conv2d(128, 128, kernel_size=(3, 3), stride=(1, 1), padding=(1, 1), bias=False)\n",
       "        (bn2): BatchNorm2d(128, eps=1e-05, momentum=0.1, affine=True, track_running_stats=True)\n",
       "        (conv3): Conv2d(128, 512, kernel_size=(1, 1), stride=(1, 1), bias=False)\n",
       "        (bn3): BatchNorm2d(512, eps=1e-05, momentum=0.1, affine=True, track_running_stats=True)\n",
       "        (relu): ReLU(inplace=True)\n",
       "      )\n",
       "      (2): Bottleneck(\n",
       "        (conv1): Conv2d(512, 128, kernel_size=(1, 1), stride=(1, 1), bias=False)\n",
       "        (bn1): BatchNorm2d(128, eps=1e-05, momentum=0.1, affine=True, track_running_stats=True)\n",
       "        (conv2): Conv2d(128, 128, kernel_size=(3, 3), stride=(1, 1), padding=(1, 1), bias=False)\n",
       "        (bn2): BatchNorm2d(128, eps=1e-05, momentum=0.1, affine=True, track_running_stats=True)\n",
       "        (conv3): Conv2d(128, 512, kernel_size=(1, 1), stride=(1, 1), bias=False)\n",
       "        (bn3): BatchNorm2d(512, eps=1e-05, momentum=0.1, affine=True, track_running_stats=True)\n",
       "        (relu): ReLU(inplace=True)\n",
       "      )\n",
       "      (3): Bottleneck(\n",
       "        (conv1): Conv2d(512, 128, kernel_size=(1, 1), stride=(1, 1), bias=False)\n",
       "        (bn1): BatchNorm2d(128, eps=1e-05, momentum=0.1, affine=True, track_running_stats=True)\n",
       "        (conv2): Conv2d(128, 128, kernel_size=(3, 3), stride=(1, 1), padding=(1, 1), bias=False)\n",
       "        (bn2): BatchNorm2d(128, eps=1e-05, momentum=0.1, affine=True, track_running_stats=True)\n",
       "        (conv3): Conv2d(128, 512, kernel_size=(1, 1), stride=(1, 1), bias=False)\n",
       "        (bn3): BatchNorm2d(512, eps=1e-05, momentum=0.1, affine=True, track_running_stats=True)\n",
       "        (relu): ReLU(inplace=True)\n",
       "      )\n",
       "    )\n",
       "    (layer3): Sequential(\n",
       "      (0): Bottleneck(\n",
       "        (conv1): Conv2d(512, 256, kernel_size=(1, 1), stride=(1, 1), bias=False)\n",
       "        (bn1): BatchNorm2d(256, eps=1e-05, momentum=0.1, affine=True, track_running_stats=True)\n",
       "        (conv2): Conv2d(256, 256, kernel_size=(3, 3), stride=(1, 1), padding=(1, 1), bias=False)\n",
       "        (bn2): BatchNorm2d(256, eps=1e-05, momentum=0.1, affine=True, track_running_stats=True)\n",
       "        (conv3): Conv2d(256, 1024, kernel_size=(1, 1), stride=(1, 1), bias=False)\n",
       "        (bn3): BatchNorm2d(1024, eps=1e-05, momentum=0.1, affine=True, track_running_stats=True)\n",
       "        (relu): ReLU(inplace=True)\n",
       "        (downsample): Sequential(\n",
       "          (0): Conv2d(512, 1024, kernel_size=(1, 1), stride=(1, 1), bias=False)\n",
       "          (1): BatchNorm2d(1024, eps=1e-05, momentum=0.1, affine=True, track_running_stats=True)\n",
       "        )\n",
       "      )\n",
       "      (1): Bottleneck(\n",
       "        (conv1): Conv2d(1024, 256, kernel_size=(1, 1), stride=(1, 1), bias=False)\n",
       "        (bn1): BatchNorm2d(256, eps=1e-05, momentum=0.1, affine=True, track_running_stats=True)\n",
       "        (conv2): Conv2d(256, 256, kernel_size=(3, 3), stride=(1, 1), padding=(2, 2), dilation=(2, 2), bias=False)\n",
       "        (bn2): BatchNorm2d(256, eps=1e-05, momentum=0.1, affine=True, track_running_stats=True)\n",
       "        (conv3): Conv2d(256, 1024, kernel_size=(1, 1), stride=(1, 1), bias=False)\n",
       "        (bn3): BatchNorm2d(1024, eps=1e-05, momentum=0.1, affine=True, track_running_stats=True)\n",
       "        (relu): ReLU(inplace=True)\n",
       "      )\n",
       "      (2): Bottleneck(\n",
       "        (conv1): Conv2d(1024, 256, kernel_size=(1, 1), stride=(1, 1), bias=False)\n",
       "        (bn1): BatchNorm2d(256, eps=1e-05, momentum=0.1, affine=True, track_running_stats=True)\n",
       "        (conv2): Conv2d(256, 256, kernel_size=(3, 3), stride=(1, 1), padding=(2, 2), dilation=(2, 2), bias=False)\n",
       "        (bn2): BatchNorm2d(256, eps=1e-05, momentum=0.1, affine=True, track_running_stats=True)\n",
       "        (conv3): Conv2d(256, 1024, kernel_size=(1, 1), stride=(1, 1), bias=False)\n",
       "        (bn3): BatchNorm2d(1024, eps=1e-05, momentum=0.1, affine=True, track_running_stats=True)\n",
       "        (relu): ReLU(inplace=True)\n",
       "      )\n",
       "      (3): Bottleneck(\n",
       "        (conv1): Conv2d(1024, 256, kernel_size=(1, 1), stride=(1, 1), bias=False)\n",
       "        (bn1): BatchNorm2d(256, eps=1e-05, momentum=0.1, affine=True, track_running_stats=True)\n",
       "        (conv2): Conv2d(256, 256, kernel_size=(3, 3), stride=(1, 1), padding=(2, 2), dilation=(2, 2), bias=False)\n",
       "        (bn2): BatchNorm2d(256, eps=1e-05, momentum=0.1, affine=True, track_running_stats=True)\n",
       "        (conv3): Conv2d(256, 1024, kernel_size=(1, 1), stride=(1, 1), bias=False)\n",
       "        (bn3): BatchNorm2d(1024, eps=1e-05, momentum=0.1, affine=True, track_running_stats=True)\n",
       "        (relu): ReLU(inplace=True)\n",
       "      )\n",
       "      (4): Bottleneck(\n",
       "        (conv1): Conv2d(1024, 256, kernel_size=(1, 1), stride=(1, 1), bias=False)\n",
       "        (bn1): BatchNorm2d(256, eps=1e-05, momentum=0.1, affine=True, track_running_stats=True)\n",
       "        (conv2): Conv2d(256, 256, kernel_size=(3, 3), stride=(1, 1), padding=(2, 2), dilation=(2, 2), bias=False)\n",
       "        (bn2): BatchNorm2d(256, eps=1e-05, momentum=0.1, affine=True, track_running_stats=True)\n",
       "        (conv3): Conv2d(256, 1024, kernel_size=(1, 1), stride=(1, 1), bias=False)\n",
       "        (bn3): BatchNorm2d(1024, eps=1e-05, momentum=0.1, affine=True, track_running_stats=True)\n",
       "        (relu): ReLU(inplace=True)\n",
       "      )\n",
       "      (5): Bottleneck(\n",
       "        (conv1): Conv2d(1024, 256, kernel_size=(1, 1), stride=(1, 1), bias=False)\n",
       "        (bn1): BatchNorm2d(256, eps=1e-05, momentum=0.1, affine=True, track_running_stats=True)\n",
       "        (conv2): Conv2d(256, 256, kernel_size=(3, 3), stride=(1, 1), padding=(2, 2), dilation=(2, 2), bias=False)\n",
       "        (bn2): BatchNorm2d(256, eps=1e-05, momentum=0.1, affine=True, track_running_stats=True)\n",
       "        (conv3): Conv2d(256, 1024, kernel_size=(1, 1), stride=(1, 1), bias=False)\n",
       "        (bn3): BatchNorm2d(1024, eps=1e-05, momentum=0.1, affine=True, track_running_stats=True)\n",
       "        (relu): ReLU(inplace=True)\n",
       "      )\n",
       "    )\n",
       "    (layer4): Sequential(\n",
       "      (0): Bottleneck(\n",
       "        (conv1): Conv2d(1024, 512, kernel_size=(1, 1), stride=(1, 1), bias=False)\n",
       "        (bn1): BatchNorm2d(512, eps=1e-05, momentum=0.1, affine=True, track_running_stats=True)\n",
       "        (conv2): Conv2d(512, 512, kernel_size=(3, 3), stride=(1, 1), padding=(2, 2), dilation=(2, 2), bias=False)\n",
       "        (bn2): BatchNorm2d(512, eps=1e-05, momentum=0.1, affine=True, track_running_stats=True)\n",
       "        (conv3): Conv2d(512, 2048, kernel_size=(1, 1), stride=(1, 1), bias=False)\n",
       "        (bn3): BatchNorm2d(2048, eps=1e-05, momentum=0.1, affine=True, track_running_stats=True)\n",
       "        (relu): ReLU(inplace=True)\n",
       "        (downsample): Sequential(\n",
       "          (0): Conv2d(1024, 2048, kernel_size=(1, 1), stride=(1, 1), bias=False)\n",
       "          (1): BatchNorm2d(2048, eps=1e-05, momentum=0.1, affine=True, track_running_stats=True)\n",
       "        )\n",
       "      )\n",
       "      (1): Bottleneck(\n",
       "        (conv1): Conv2d(2048, 512, kernel_size=(1, 1), stride=(1, 1), bias=False)\n",
       "        (bn1): BatchNorm2d(512, eps=1e-05, momentum=0.1, affine=True, track_running_stats=True)\n",
       "        (conv2): Conv2d(512, 512, kernel_size=(3, 3), stride=(1, 1), padding=(4, 4), dilation=(4, 4), bias=False)\n",
       "        (bn2): BatchNorm2d(512, eps=1e-05, momentum=0.1, affine=True, track_running_stats=True)\n",
       "        (conv3): Conv2d(512, 2048, kernel_size=(1, 1), stride=(1, 1), bias=False)\n",
       "        (bn3): BatchNorm2d(2048, eps=1e-05, momentum=0.1, affine=True, track_running_stats=True)\n",
       "        (relu): ReLU(inplace=True)\n",
       "      )\n",
       "      (2): Bottleneck(\n",
       "        (conv1): Conv2d(2048, 512, kernel_size=(1, 1), stride=(1, 1), bias=False)\n",
       "        (bn1): BatchNorm2d(512, eps=1e-05, momentum=0.1, affine=True, track_running_stats=True)\n",
       "        (conv2): Conv2d(512, 512, kernel_size=(3, 3), stride=(1, 1), padding=(4, 4), dilation=(4, 4), bias=False)\n",
       "        (bn2): BatchNorm2d(512, eps=1e-05, momentum=0.1, affine=True, track_running_stats=True)\n",
       "        (conv3): Conv2d(512, 2048, kernel_size=(1, 1), stride=(1, 1), bias=False)\n",
       "        (bn3): BatchNorm2d(2048, eps=1e-05, momentum=0.1, affine=True, track_running_stats=True)\n",
       "        (relu): ReLU(inplace=True)\n",
       "      )\n",
       "    )\n",
       "  )\n",
       "  (classifier): DeepLabHead(\n",
       "    (0): ASPP(\n",
       "      (convs): ModuleList(\n",
       "        (0): Sequential(\n",
       "          (0): Conv2d(2048, 256, kernel_size=(1, 1), stride=(1, 1), bias=False)\n",
       "          (1): BatchNorm2d(256, eps=1e-05, momentum=0.1, affine=True, track_running_stats=True)\n",
       "          (2): ReLU()\n",
       "        )\n",
       "        (1): ASPPConv(\n",
       "          (0): Conv2d(2048, 256, kernel_size=(3, 3), stride=(1, 1), padding=(12, 12), dilation=(12, 12), bias=False)\n",
       "          (1): BatchNorm2d(256, eps=1e-05, momentum=0.1, affine=True, track_running_stats=True)\n",
       "          (2): ReLU()\n",
       "        )\n",
       "        (2): ASPPConv(\n",
       "          (0): Conv2d(2048, 256, kernel_size=(3, 3), stride=(1, 1), padding=(24, 24), dilation=(24, 24), bias=False)\n",
       "          (1): BatchNorm2d(256, eps=1e-05, momentum=0.1, affine=True, track_running_stats=True)\n",
       "          (2): ReLU()\n",
       "        )\n",
       "        (3): ASPPConv(\n",
       "          (0): Conv2d(2048, 256, kernel_size=(3, 3), stride=(1, 1), padding=(36, 36), dilation=(36, 36), bias=False)\n",
       "          (1): BatchNorm2d(256, eps=1e-05, momentum=0.1, affine=True, track_running_stats=True)\n",
       "          (2): ReLU()\n",
       "        )\n",
       "        (4): ASPPPooling(\n",
       "          (0): AdaptiveAvgPool2d(output_size=1)\n",
       "          (1): Conv2d(2048, 256, kernel_size=(1, 1), stride=(1, 1), bias=False)\n",
       "          (2): BatchNorm2d(256, eps=1e-05, momentum=0.1, affine=True, track_running_stats=True)\n",
       "          (3): ReLU()\n",
       "        )\n",
       "      )\n",
       "      (project): Sequential(\n",
       "        (0): Conv2d(1280, 256, kernel_size=(1, 1), stride=(1, 1), bias=False)\n",
       "        (1): BatchNorm2d(256, eps=1e-05, momentum=0.1, affine=True, track_running_stats=True)\n",
       "        (2): ReLU()\n",
       "        (3): Dropout(p=0.5, inplace=False)\n",
       "      )\n",
       "    )\n",
       "    (1): Conv2d(256, 256, kernel_size=(3, 3), stride=(1, 1), padding=(1, 1), bias=False)\n",
       "    (2): BatchNorm2d(256, eps=1e-05, momentum=0.1, affine=True, track_running_stats=True)\n",
       "    (3): ReLU()\n",
       "    (4): Conv2d(256, 2, kernel_size=(1, 1), stride=(1, 1))\n",
       "  )\n",
       ")"
      ]
     },
     "execution_count": 26,
     "metadata": {},
     "output_type": "execute_result"
    }
   ],
   "source": [
    "from torchvision.models.segmentation import deeplabv3_resnet50\n",
    "model = deeplabv3_resnet50(weights=None, num_classes=2)\n",
    "\n",
    "model"
   ]
  },
  {
   "cell_type": "markdown",
   "id": "1b9e9e9f-0710-4c33-b869-fc75aac21fc5",
   "metadata": {},
   "source": [
    "num_classes is set to 2 for UGS and non-UGS, so in the output, there will be 2 channels --> channel 1 indicating if it is class 0 (non-UGS), channel 2 indicating if it is class 1 (UGS)"
   ]
  },
  {
   "cell_type": "code",
   "execution_count": 27,
   "id": "b5bbd08b-4280-4668-b5e3-a756b943f853",
   "metadata": {},
   "outputs": [],
   "source": [
    "backbone = model.get_submodule('backbone')"
   ]
  },
  {
   "cell_type": "code",
   "execution_count": 28,
   "id": "7049dbf3-6301-4abc-8772-05549ddfe555",
   "metadata": {},
   "outputs": [],
   "source": [
    "conv = torch.nn.modules.conv.Conv2d(\n",
    "    in_channels=4, \n",
    "    out_channels=64, \n",
    "    kernel_size=(7, 7),\n",
    "    stride=(2, 2),\n",
    "    padding=(3, 3),\n",
    "    bias=False\n",
    ")"
   ]
  },
  {
   "cell_type": "code",
   "execution_count": 29,
   "id": "787743ba-3f76-4090-a252-085998a1c03c",
   "metadata": {},
   "outputs": [],
   "source": [
    "backbone.register_module('conv1', conv)"
   ]
  },
  {
   "cell_type": "markdown",
   "id": "91c6337e-6858-4d89-93e3-d73296f181ba",
   "metadata": {},
   "source": [
    "See the difference in shapes"
   ]
  },
  {
   "cell_type": "code",
   "execution_count": 30,
   "id": "edda2102-45dd-4b13-b3a9-ab5419a5ce65",
   "metadata": {
    "scrolled": true
   },
   "outputs": [
    {
     "data": {
      "text/plain": [
       "torch.Size([3, 2, 255, 255])"
      ]
     },
     "execution_count": 30,
     "metadata": {},
     "output_type": "execute_result"
    }
   ],
   "source": [
    "pred = model(torch.randn(3, 4, 255, 255))\n",
    "pred['out'].shape"
   ]
  },
  {
   "cell_type": "code",
   "execution_count": 31,
   "id": "17c21211-002c-450a-a4fb-06da073b6938",
   "metadata": {},
   "outputs": [
    {
     "data": {
      "text/plain": [
       "torch.Size([1, 255, 255])"
      ]
     },
     "execution_count": 31,
     "metadata": {},
     "output_type": "execute_result"
    }
   ],
   "source": [
    "valid_batch['mask'][0].shape"
   ]
  },
  {
   "cell_type": "markdown",
   "id": "dac956dd-7dfa-46f6-97d1-e5d87d0a0afb",
   "metadata": {},
   "source": [
    "<b>Train loop</b>"
   ]
  },
  {
   "cell_type": "code",
   "execution_count": 32,
   "id": "babc51f0-3fee-4d8c-89ac-7886424e944e",
   "metadata": {},
   "outputs": [],
   "source": [
    "from typing import Optional, Callable"
   ]
  },
  {
   "cell_type": "code",
   "execution_count": 33,
   "id": "2abf1c7f-3ad0-4eb1-b9a2-638899027fe6",
   "metadata": {},
   "outputs": [],
   "source": [
    "def train_loop(\n",
    "    epochs: int, \n",
    "    train_dl: DataLoader, \n",
    "    val_dl: Optional[DataLoader], \n",
    "    model: torch.nn.Module, \n",
    "    loss_fn: Callable, \n",
    "    optimizer: torch.optim.Optimizer, \n",
    "    acc_fns: Optional[list]=None, \n",
    "    batch_tfms: Optional[Callable]=None\n",
    "):\n",
    "    # size = len(dataloader.dataset)\n",
    "    if torch.cuda.is_available():\n",
    "        device = torch.device(\"cuda\")\n",
    "    else:\n",
    "        device = torch.device(\"cpu\")\n",
    "    \n",
    "    cuda_model = model.to(device)\n",
    "\n",
    "    for epoch in range(epochs):\n",
    "        accum_loss = 0\n",
    "        for batch in train_dl:\n",
    "\n",
    "            if batch_tfms is not None:\n",
    "                batch = batch_tfms(batch)\n",
    "\n",
    "            X = batch['image'].to(device)\n",
    "            y = batch['mask'].type(torch.long).to(device)\n",
    "            pred = cuda_model(X)['out']\n",
    "            loss = loss_fn(pred, y)\n",
    "\n",
    "            # BackProp\n",
    "            optimizer.zero_grad()\n",
    "            loss.backward()\n",
    "            optimizer.step()\n",
    "\n",
    "            # update the accum loss\n",
    "            accum_loss += float(loss) / len(train_dl)\n",
    "\n",
    "        # Testing against the validation dataset\n",
    "        if acc_fns is not None and val_dl is not None:\n",
    "            # reset the accuracies metrics\n",
    "            acc = [0.] * len(acc_fns)\n",
    "\n",
    "            with torch.no_grad():\n",
    "                for batch in val_dl:\n",
    "\n",
    "                    if batch_tfms is not None:\n",
    "                        batch = batch_tfms(batch)                    \n",
    "\n",
    "                    X = batch['image'].type(torch.float32).to(device)\n",
    "                    y = batch['mask'].type(torch.long).to(device)\n",
    "\n",
    "                    pred = cuda_model(X)['out']\n",
    "\n",
    "                    for i, acc_fn in enumerate(acc_fns):\n",
    "                        acc[i] = float(acc[i] + acc_fn(pred, y)/len(val_dl))\n",
    "\n",
    "            # at the end of the epoch, print the errors, etc.\n",
    "            print(f'Epoch {epoch}: Train Loss={accum_loss:.5f} - Accs={[round(a, 3) for a in acc]}')\n",
    "        else:\n",
    "            print(f'Epoch {epoch}: Train Loss={accum_loss:.5f}')"
   ]
  },
  {
   "cell_type": "markdown",
   "id": "a0ca2b18-a3e6-4af0-bb9c-d05215e6f00f",
   "metadata": {},
   "source": [
    "<b>Define loss and accuracy functions</b>"
   ]
  },
  {
   "cell_type": "code",
   "execution_count": 34,
   "id": "be7221e7-9cd8-4815-bba8-36e605dbf338",
   "metadata": {},
   "outputs": [],
   "source": [
    "from sklearn.metrics import jaccard_score\n",
    "\n",
    "def oa(pred, y):\n",
    "    flat_y = y.squeeze()\n",
    "    flat_pred = pred.argmax(dim=1)\n",
    "    acc = torch.count_nonzero(flat_y == flat_pred) / torch.numel(flat_y)\n",
    "    return acc\n",
    "\n",
    "def iou(pred, y):\n",
    "    flat_y = y.cpu().numpy().squeeze()\n",
    "    flat_pred = pred.argmax(dim=1).detach().cpu().numpy()\n",
    "    return jaccard_score(flat_y.reshape(-1), flat_pred.reshape(-1), zero_division=1.)    \n",
    "\n",
    "def loss_cross_entropy(p, t):    \n",
    "    return torch.nn.functional.cross_entropy(p, t.squeeze())\n",
    "\n",
    "def loss(pred, y): # MAE\n",
    "    return torch.nn.L1Loss(pred, y)"
   ]
  },
  {
   "cell_type": "markdown",
   "id": "45f3ba0c-812d-4c2f-a3ce-66c63ceb32bc",
   "metadata": {},
   "source": [
    "Understanding these metrics is very important!\n",
    "\n",
    "Some helpful links:\n",
    "* [Cross entropy loss](https://wiki.cloudfactory.com/docs/mp-wiki/loss/cross-entropy-loss#:~:text=Cross%2DEntropy%20%3C%200.20%3A%20Fine,2.00%20Something%20is%20seriously%20broken.)"
   ]
  },
  {
   "cell_type": "markdown",
   "id": "d1ff8f4c-9dbb-4afe-8c14-81a3561c7092",
   "metadata": {},
   "source": [
    "## Training"
   ]
  },
  {
   "cell_type": "code",
   "execution_count": 35,
   "id": "a52413af-b858-482e-8f92-fdc5e18063e3",
   "metadata": {},
   "outputs": [],
   "source": [
    "optimizer = torch.optim.Adam(model.parameters(), lr=0.0001, weight_decay=0.01)"
   ]
  },
  {
   "cell_type": "code",
   "execution_count": 36,
   "id": "5b656bf8-2da1-4a53-b20c-910dab4632f8",
   "metadata": {},
   "outputs": [
    {
     "name": "stdout",
     "output_type": "stream",
     "text": [
      "Epoch 0: Train Loss=0.70578 - Accs=[0.525, 0.021]\n",
      "Epoch 1: Train Loss=0.68243 - Accs=[0.635, 0.013]\n",
      "Epoch 2: Train Loss=0.65944 - Accs=[0.68, 0.044]\n",
      "Epoch 3: Train Loss=0.64034 - Accs=[0.715, 0.031]\n",
      "Epoch 4: Train Loss=0.62038 - Accs=[0.782, 0.01]\n",
      "Epoch 5: Train Loss=0.59359 - Accs=[0.859, 0.019]\n",
      "Epoch 6: Train Loss=0.56530 - Accs=[0.875, 0.012]\n",
      "Epoch 7: Train Loss=0.53851 - Accs=[0.908, 0.015]\n",
      "Epoch 8: Train Loss=0.51439 - Accs=[0.949, 0.006]\n",
      "Epoch 9: Train Loss=0.46420 - Accs=[0.959, 0.019]\n",
      "Epoch 10: Train Loss=0.43608 - Accs=[0.977, 0.001]\n",
      "Epoch 11: Train Loss=0.41744 - Accs=[0.968, 0.001]\n",
      "Epoch 12: Train Loss=0.36053 - Accs=[0.94, 0.0]\n",
      "Epoch 13: Train Loss=0.33449 - Accs=[0.969, 0.0]\n",
      "Epoch 14: Train Loss=0.31598 - Accs=[0.946, 0.0]\n",
      "CPU times: total: 37min 9s\n",
      "Wall time: 7min 32s\n"
     ]
    }
   ],
   "source": [
    "%%time\n",
    "train_loop(15, train_dataloader, valid_dataloader, model, loss_cross_entropy, optimizer, \n",
    "           acc_fns=[oa, iou], batch_tfms=None)"
   ]
  },
  {
   "cell_type": "markdown",
   "id": "f631d08c-6ce2-48fe-8ba9-a6a55d6b272a",
   "metadata": {},
   "source": [
    "### Predict"
   ]
  },
  {
   "cell_type": "code",
   "execution_count": null,
   "id": "5a0ae745-344b-4b11-893b-3e62a8c9e7e5",
   "metadata": {},
   "outputs": [],
   "source": [
    "pred = model(torch.randn(3, 4, 255, 255))\n",
    "pred['out'].shape"
   ]
  },
  {
   "cell_type": "code",
   "execution_count": 37,
   "id": "d448e465-c8c3-408c-85c2-37ca4da6a845",
   "metadata": {},
   "outputs": [
    {
     "data": {
      "text/plain": [
       "dict_keys(['crs', 'bbox', 'image', 'mask'])"
      ]
     },
     "execution_count": 37,
     "metadata": {},
     "output_type": "execute_result"
    }
   ],
   "source": [
    "valid_batch.keys()"
   ]
  },
  {
   "cell_type": "code",
   "execution_count": 38,
   "id": "94e214bb-affd-4a31-98ff-99ef4bedf42c",
   "metadata": {},
   "outputs": [],
   "source": [
    "test_model = model"
   ]
  },
  {
   "cell_type": "code",
   "execution_count": 39,
   "id": "87c52831-8fc0-4f37-b8b1-4a031c3ca63b",
   "metadata": {},
   "outputs": [],
   "source": [
    "test_model.eval()\n",
    "\n",
    "with torch.no_grad():\n",
    "  out = test_model(valid_batch[\"image\"])\n",
    "# out = model(valid_batch[\"image\"])"
   ]
  },
  {
   "cell_type": "code",
   "execution_count": 40,
   "id": "84cffb2e-01ee-4151-ad2e-24bf8b63617a",
   "metadata": {},
   "outputs": [
    {
     "data": {
      "text/plain": [
       "odict_keys(['out'])"
      ]
     },
     "execution_count": 40,
     "metadata": {},
     "output_type": "execute_result"
    }
   ],
   "source": [
    "out.keys()"
   ]
  },
  {
   "cell_type": "code",
   "execution_count": 64,
   "id": "606854a8-e211-41f1-914a-43e39b9e345b",
   "metadata": {},
   "outputs": [],
   "source": [
    "def create_sample(batch, out, batch_idx):\n",
    "    return {\n",
    "        \"image\": batch[\"image\"][batch_idx],  # Image\n",
    "        \"mask\": batch[\"mask\"][batch_idx],  # Actual masks\n",
    "        \"prediction\": out['out'][batch_idx]  # Model predictions\n",
    "        # \"prediction_scores\": out['out'][batch_idx][\"scores\"],  # Confidence scores for each prediction\n",
    "    }"
   ]
  },
  {
   "cell_type": "code",
   "execution_count": 72,
   "id": "4fb03834-b432-4c05-aee8-621ebeb82285",
   "metadata": {},
   "outputs": [],
   "source": [
    "batch_idx = 2\n",
    "sample = create_sample(valid_batch, out, batch_idx)"
   ]
  },
  {
   "cell_type": "code",
   "execution_count": 73,
   "id": "ad985329-12ff-48b4-8e75-4e34918b909c",
   "metadata": {},
   "outputs": [
    {
     "data": {
      "image/png": "[encoded data removed]",
      "text/plain": [
       "<Figure size 1200x1200 with 3 Axes>"
      ]
     },
     "metadata": {},
     "output_type": "display_data"
    }
   ],
   "source": [
    "imgs = sample['prediction']\n",
    "\n",
    "f, axarr = plt.subplots(imgs.size(0)+1)\n",
    "\n",
    "for idx in range(imgs.size(0)+1):\n",
    "    if(idx < imgs.size(0)):\n",
    "        img = imgs[idx,].squeeze().numpy()\n",
    "        axarr[idx].imshow(img)\n",
    "    else:\n",
    "        img = sample[\"mask\"].permute(1,2,0)\n",
    "        axarr[idx].imshow(img)"
   ]
  }
 ],
 "metadata": {
  "kernelspec": {
   "display_name": "Python 3 (ipykernel)",
   "language": "python",
   "name": "python3"
  },
  "language_info": {
   "codemirror_mode": {
    "name": "ipython",
    "version": 3
   },
   "file_extension": ".py",
   "mimetype": "text/x-python",
   "name": "python",
   "nbconvert_exporter": "python",
   "pygments_lexer": "ipython3",
   "version": "3.10.13"
  }
 },
 "nbformat": 4,
 "nbformat_minor": 5
}
