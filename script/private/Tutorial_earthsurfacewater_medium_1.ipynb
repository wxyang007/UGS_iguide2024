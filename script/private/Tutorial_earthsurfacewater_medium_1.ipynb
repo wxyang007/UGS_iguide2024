{
  "nbformat": 4,
  "nbformat_minor": 0,
  "metadata": {
    "colab": {
      "provenance": []
    },
    "kernelspec": {
      "name": "python3",
      "display_name": "Python 3"
    },
    "language_info": {
      "name": "python"
    }
  },
  "cells": [
    {
      "cell_type": "markdown",
      "source": [
        "# EarthSurfaceWater with TorchGeo"
      ],
      "metadata": {
        "id": "G5SlGAr6lVhn"
      }
    },
    {
      "cell_type": "markdown",
      "source": [
        "https://www.geocorner.net/post/artificial-intelligence-for-geospatial-analysis-with-pytorch-s-torchgeo-part-1"
      ],
      "metadata": {
        "id": "SEVA5jvzQC1D"
      }
    },
    {
      "cell_type": "markdown",
      "source": [
        "In this notebook we will train a Convolutional Neural Network (CNN) to solve the EarthSurfaceWater dataset by using TorchGeo functionalities."
      ],
      "metadata": {
        "id": "HcfhE4LxldS1"
      }
    },
    {
      "cell_type": "code",
      "source": [
        "%pip install rasterio -q\n",
        "%pip install torchgeo -q"
      ],
      "metadata": {
        "colab": {
          "base_uri": "https://localhost:8080/"
        },
        "id": "KfTqb9GbY9d6",
        "outputId": "b71de0b3-283e-4092-a3a4-4a43c3695034"
      },
      "execution_count": 1,
      "outputs": [
        {
          "output_type": "stream",
          "name": "stdout",
          "text": [
            "\u001b[2K   \u001b[90m━━━━━━━━━━━━━━━━━━━━━━━━━━━━━━━━━━━━━━━━\u001b[0m \u001b[32m21.5/21.5 MB\u001b[0m \u001b[31m15.7 MB/s\u001b[0m eta \u001b[36m0:00:00\u001b[0m\n",
            "\u001b[2K     \u001b[90m━━━━━━━━━━━━━━━━━━━━━━━━━━━━━━━━━━━━━━━━\u001b[0m \u001b[32m53.8/53.8 kB\u001b[0m \u001b[31m2.2 MB/s\u001b[0m eta \u001b[36m0:00:00\u001b[0m\n",
            "\u001b[2K     \u001b[90m━━━━━━━━━━━━━━━━━━━━━━━━━━━━━━━━━━━━━━━━\u001b[0m \u001b[32m58.8/58.8 kB\u001b[0m \u001b[31m2.7 MB/s\u001b[0m eta \u001b[36m0:00:00\u001b[0m\n",
            "\u001b[?25h  Preparing metadata (setup.py) ... \u001b[?25l\u001b[?25hdone\n",
            "  Preparing metadata (setup.py) ... \u001b[?25l\u001b[?25hdone\n",
            "\u001b[2K     \u001b[90m━━━━━━━━━━━━━━━━━━━━━━━━━━━━━━━━━━━━━━━━\u001b[0m \u001b[32m68.5/68.5 kB\u001b[0m \u001b[31m1.8 MB/s\u001b[0m eta \u001b[36m0:00:00\u001b[0m\n",
            "\u001b[2K     \u001b[90m━━━━━━━━━━━━━━━━━━━━━━━━━━━━━━━━━━━━━━━━\u001b[0m \u001b[32m117.0/117.0 kB\u001b[0m \u001b[31m4.5 MB/s\u001b[0m eta \u001b[36m0:00:00\u001b[0m\n",
            "\u001b[?25h  Preparing metadata (setup.py) ... \u001b[?25l\u001b[?25hdone\n",
            "\u001b[2K   \u001b[90m━━━━━━━━━━━━━━━━━━━━━━━━━━━━━━━━━━━━━━━━\u001b[0m \u001b[32m381.1/381.1 kB\u001b[0m \u001b[31m5.5 MB/s\u001b[0m eta \u001b[36m0:00:00\u001b[0m\n",
            "\u001b[2K   \u001b[90m━━━━━━━━━━━━━━━━━━━━━━━━━━━━━━━━━━━━━━━━\u001b[0m \u001b[32m833.3/833.3 kB\u001b[0m \u001b[31m13.4 MB/s\u001b[0m eta \u001b[36m0:00:00\u001b[0m\n",
            "\u001b[2K   \u001b[90m━━━━━━━━━━━━━━━━━━━━━━━━━━━━━━━━━━━━━━━━\u001b[0m \u001b[32m806.6/806.6 kB\u001b[0m \u001b[31m30.6 MB/s\u001b[0m eta \u001b[36m0:00:00\u001b[0m\n",
            "\u001b[2K   \u001b[90m━━━━━━━━━━━━━━━━━━━━━━━━━━━━━━━━━━━━━━━━\u001b[0m \u001b[32m811.0/811.0 kB\u001b[0m \u001b[31m29.0 MB/s\u001b[0m eta \u001b[36m0:00:00\u001b[0m\n",
            "\u001b[2K   \u001b[90m━━━━━━━━━━━━━━━━━━━━━━━━━━━━━━━━━━━━━━━━\u001b[0m \u001b[32m543.2/543.2 kB\u001b[0m \u001b[31m23.6 MB/s\u001b[0m eta \u001b[36m0:00:00\u001b[0m\n",
            "\u001b[2K   \u001b[90m━━━━━━━━━━━━━━━━━━━━━━━━━━━━━━━━━━━━━━━━\u001b[0m \u001b[32m106.7/106.7 kB\u001b[0m \u001b[31m4.7 MB/s\u001b[0m eta \u001b[36m0:00:00\u001b[0m\n",
            "\u001b[2K   \u001b[90m━━━━━━━━━━━━━━━━━━━━━━━━━━━━━━━━━━━━━━━━\u001b[0m \u001b[32m2.2/2.2 MB\u001b[0m \u001b[31m29.4 MB/s\u001b[0m eta \u001b[36m0:00:00\u001b[0m\n",
            "\u001b[2K   \u001b[90m━━━━━━━━━━━━━━━━━━━━━━━━━━━━━━━━━━━━━━━━\u001b[0m \u001b[32m866.2/866.2 kB\u001b[0m \u001b[31m1.7 MB/s\u001b[0m eta \u001b[36m0:00:00\u001b[0m\n",
            "\u001b[2K   \u001b[90m━━━━━━━━━━━━━━━━━━━━━━━━━━━━━━━━━━━━━━━━\u001b[0m \u001b[32m137.6/137.6 kB\u001b[0m \u001b[31m7.1 MB/s\u001b[0m eta \u001b[36m0:00:00\u001b[0m\n",
            "\u001b[2K   \u001b[90m━━━━━━━━━━━━━━━━━━━━━━━━━━━━━━━━━━━━━━━━\u001b[0m \u001b[32m137.5/137.5 MB\u001b[0m \u001b[31m8.3 MB/s\u001b[0m eta \u001b[36m0:00:00\u001b[0m\n",
            "\u001b[2K   \u001b[90m━━━━━━━━━━━━━━━━━━━━━━━━━━━━━━━━━━━━━━━━\u001b[0m \u001b[32m154.5/154.5 kB\u001b[0m \u001b[31m9.0 MB/s\u001b[0m eta \u001b[36m0:00:00\u001b[0m\n",
            "\u001b[2K   \u001b[90m━━━━━━━━━━━━━━━━━━━━━━━━━━━━━━━━━━━━━━━━\u001b[0m \u001b[32m206.7/206.7 kB\u001b[0m \u001b[31m11.8 MB/s\u001b[0m eta \u001b[36m0:00:00\u001b[0m\n",
            "\u001b[2K   \u001b[90m━━━━━━━━━━━━━━━━━━━━━━━━━━━━━━━━━━━━━━━━\u001b[0m \u001b[32m1.6/1.6 MB\u001b[0m \u001b[31m37.1 MB/s\u001b[0m eta \u001b[36m0:00:00\u001b[0m\n",
            "\u001b[2K   \u001b[90m━━━━━━━━━━━━━━━━━━━━━━━━━━━━━━━━━━━━━━━━\u001b[0m \u001b[32m79.5/79.5 kB\u001b[0m \u001b[31m3.5 MB/s\u001b[0m eta \u001b[36m0:00:00\u001b[0m\n",
            "\u001b[2K   \u001b[90m━━━━━━━━━━━━━━━━━━━━━━━━━━━━━━━━━━━━━━━━\u001b[0m \u001b[32m815.2/815.2 kB\u001b[0m \u001b[31m29.6 MB/s\u001b[0m eta \u001b[36m0:00:00\u001b[0m\n",
            "\u001b[2K   \u001b[90m━━━━━━━━━━━━━━━━━━━━━━━━━━━━━━━━━━━━━━━━\u001b[0m \u001b[32m101.7/101.7 kB\u001b[0m \u001b[31m5.8 MB/s\u001b[0m eta \u001b[36m0:00:00\u001b[0m\n",
            "\u001b[2K   \u001b[90m━━━━━━━━━━━━━━━━━━━━━━━━━━━━━━━━━━━━━━━━\u001b[0m \u001b[32m624.4/624.4 kB\u001b[0m \u001b[31m21.7 MB/s\u001b[0m eta \u001b[36m0:00:00\u001b[0m\n",
            "\u001b[?25h  Building wheel for efficientnet-pytorch (setup.py) ... \u001b[?25l\u001b[?25hdone\n",
            "  Building wheel for pretrainedmodels (setup.py) ... \u001b[?25l\u001b[?25hdone\n",
            "  Building wheel for antlr4-python3-runtime (setup.py) ... \u001b[?25l\u001b[?25hdone\n"
          ]
        }
      ]
    },
    {
      "cell_type": "code",
      "source": [
        "import logging\n",
        "# this line is to avoid warnings from Rasterio to be printed on screen\n",
        "# the warning is explained here: https://stackoverflow.com/questions/74089170/suppress-rasterio-warning-warning-1-tiffreaddirectory\n",
        "logger = logging.getLogger(\"rasterio\")\n",
        "logger.setLevel(logging.ERROR)"
      ],
      "metadata": {
        "id": "27RYUnCFvb_9"
      },
      "execution_count": 2,
      "outputs": []
    },
    {
      "cell_type": "code",
      "source": [
        "# checking both insallations\n",
        "import rasterio as rio\n",
        "import torchgeo"
      ],
      "metadata": {
        "id": "I1TKZeAPbOdk"
      },
      "execution_count": 3,
      "outputs": []
    },
    {
      "cell_type": "code",
      "source": [
        "!wget https://zenodo.org/record/5205674/files/dset-s2.zip"
      ],
      "metadata": {
        "id": "d5v21HvKMKkF",
        "outputId": "76e18164-6f0e-481d-c671-b2b0c6c09dca",
        "colab": {
          "base_uri": "https://localhost:8080/"
        }
      },
      "execution_count": 4,
      "outputs": [
        {
          "output_type": "stream",
          "name": "stdout",
          "text": [
            "--2024-08-13 05:25:01--  https://zenodo.org/record/5205674/files/dset-s2.zip\n",
            "Resolving zenodo.org (zenodo.org)... 188.184.103.159, 188.184.98.238, 188.185.79.172, ...\n",
            "Connecting to zenodo.org (zenodo.org)|188.184.103.159|:443... connected.\n",
            "HTTP request sent, awaiting response... 301 MOVED PERMANENTLY\n",
            "Location: /records/5205674/files/dset-s2.zip [following]\n",
            "--2024-08-13 05:25:02--  https://zenodo.org/records/5205674/files/dset-s2.zip\n",
            "Reusing existing connection to zenodo.org:443.\n",
            "HTTP request sent, awaiting response... 200 OK\n",
            "Length: 611792578 (583M) [application/octet-stream]\n",
            "Saving to: ‘dset-s2.zip’\n",
            "\n",
            "dset-s2.zip         100%[===================>] 583.45M  28.4MB/s    in 22s     \n",
            "\n",
            "2024-08-13 05:25:24 (26.2 MB/s) - ‘dset-s2.zip’ saved [611792578/611792578]\n",
            "\n"
          ]
        }
      ]
    },
    {
      "cell_type": "code",
      "source": [
        "!unzip dset-s2.zip"
      ],
      "metadata": {
        "id": "F9H_kTQQMOx7",
        "outputId": "580f2a57-c4d3-48ca-f841-8a2b2c4b9c55",
        "colab": {
          "base_uri": "https://localhost:8080/"
        }
      },
      "execution_count": 5,
      "outputs": [
        {
          "output_type": "stream",
          "name": "stdout",
          "text": [
            "Archive:  dset-s2.zip\n",
            "   creating: dset-s2/\n",
            "  inflating: __MACOSX/._dset-s2      \n",
            "   creating: dset-s2/tra_truth/\n",
            "   creating: dset-s2/val_truth/\n",
            "   creating: dset-s2/tra_scene/\n",
            "   creating: dset-s2/val_scene/\n",
            "  inflating: dset-s2/tra_truth/S2A_L2A_20190817_N0213_R089_S1_Truth.tif  \n",
            "  inflating: dset-s2/tra_truth/S2B_L2A_20190818_N0213_R035_S1_Truth.tif  \n",
            "  inflating: dset-s2/tra_truth/S2A_L2A_20190716_N0213_R063_S3_Truth.tif  \n",
            "  inflating: dset-s2/tra_truth/S2A_L2A_20190314_N0211_R008_S1_Truth.tif  \n",
            "  inflating: dset-s2/tra_truth/S2B_L2A_20190807_N0213_R018_S2_Truth.tif  \n",
            "  inflating: dset-s2/tra_truth/S2B_L2A_20190904_N0213_R132_S2_Truth.tif  \n",
            "  inflating: dset-s2/tra_truth/S2A_L2A_20190811_N0213_R013_S2_Truth.tif  \n",
            "  inflating: dset-s2/tra_truth/S2B_L2A_20190506_N0212_R126_S3_Truth.tif  \n",
            "  inflating: dset-s2/tra_truth/S2A_L2A_20190206_N0211_R067_S1_Truth.tif  \n",
            "  inflating: dset-s2/tra_truth/S2A_L2A_20190125_N0211_R034_S1_Truth.tif  \n",
            "  inflating: dset-s2/tra_truth/S2B_L2A_20191023_N0213_R121_S2_Truth.tif  \n",
            "  inflating: dset-s2/tra_truth/S2B_L2A_20190831_N0213_R082_S3_Truth.tif  \n",
            "  inflating: dset-s2/tra_truth/S2B_L2A_20181226_N0211_R102_S1_Truth.tif  \n",
            "  inflating: dset-s2/tra_truth/S2B_L2A_20190811_N0213_R079_S3_Truth.tif  \n",
            "  inflating: dset-s2/tra_truth/S2B_L2A_20190801_N0213_R084_S1_Truth.tif  \n",
            "  inflating: dset-s2/tra_truth/S2B_L2A_20190620_N0212_R053_S2_Truth.tif  \n",
            "  inflating: dset-s2/tra_truth/S2B_L2A_20190430_N0211_R035_S1_Truth.tif  \n",
            "  inflating: dset-s2/tra_truth/S2B_L2A_20190807_N0213_R018_S3_Truth.tif  \n",
            "  inflating: dset-s2/tra_truth/S2A_L2A_20190716_N0213_R063_S2_Truth.tif  \n",
            "  inflating: dset-s2/tra_truth/S2A_L2A_20190830_N0213_R133_S1_Truth.tif  \n",
            "  inflating: dset-s2/tra_truth/S2B_L2A_20190607_N0212_R012_S1_Truth.tif  \n",
            "  inflating: dset-s2/tra_truth/S2B_L2A_20190506_N0212_R126_S2_Truth.tif  \n",
            "  inflating: dset-s2/tra_truth/S2A_L2A_20190811_N0213_R013_S3_Truth.tif  \n",
            "  inflating: dset-s2/tra_truth/S2B_L2A_20190904_N0213_R132_S3_Truth.tif  \n",
            "  inflating: dset-s2/tra_truth/S2B_L2A_20190831_N0213_R082_S2_Truth.tif  \n",
            "  inflating: dset-s2/tra_truth/S2B_L2A_20190912_N0213_R102_S1_Truth.tif  \n",
            "  inflating: dset-s2/tra_truth/S2B_L2A_20191023_N0213_R121_S3_Truth.tif  \n",
            "  inflating: dset-s2/tra_truth/S2B_L2A_20190811_N0213_R079_S2_Truth.tif  \n",
            "  inflating: dset-s2/tra_truth/S2B_L2A_20190620_N0212_R053_S3_Truth.tif  \n",
            "  inflating: dset-s2/tra_truth/S2B_L2A_20190225_N0211_R117_S1_Truth.tif  \n",
            "  inflating: dset-s2/tra_truth/S2A_L2A_20190716_N0213_R063_S1_Truth.tif  \n",
            "  inflating: dset-s2/tra_truth/S2A_L2A_20190314_N0211_R008_S3_Truth.tif  \n",
            "  inflating: dset-s2/tra_truth/S2A_L2A_20190817_N0213_R089_S3_Truth.tif  \n",
            "  inflating: dset-s2/tra_truth/S2B_L2A_20190430_N0211_R035_S2_Truth.tif  \n",
            "  inflating: dset-s2/tra_truth/S2B_L2A_20190818_N0213_R035_S3_Truth.tif  \n",
            "  inflating: dset-s2/tra_truth/S2B_L2A_20190506_N0212_R126_S1_Truth.tif  \n",
            "  inflating: dset-s2/tra_truth/S2A_L2A_20190206_N0211_R067_S3_Truth.tif  \n",
            "  inflating: dset-s2/tra_truth/S2B_L2A_20190607_N0212_R012_S2_Truth.tif  \n",
            "  inflating: dset-s2/tra_truth/S2A_L2A_20190830_N0213_R133_S2_Truth.tif  \n",
            "  inflating: dset-s2/tra_truth/S2B_L2A_20190912_N0213_R102_S2_Truth.tif  \n",
            "  inflating: dset-s2/tra_truth/S2B_L2A_20190831_N0213_R082_S1_Truth.tif  \n",
            "  inflating: dset-s2/tra_truth/S2A_L2A_20190125_N0211_R034_S3_Truth.tif  \n",
            "  inflating: dset-s2/tra_truth/S2B_L2A_20190225_N0211_R117_S2_Truth.tif  \n",
            "  inflating: dset-s2/tra_truth/S2B_L2A_20190801_N0213_R084_S3_Truth.tif  \n",
            "  inflating: dset-s2/tra_truth/S2B_L2A_20190811_N0213_R079_S1_Truth.tif  \n",
            "  inflating: dset-s2/tra_truth/S2B_L2A_20181226_N0211_R102_S3_Truth.tif  \n",
            "  inflating: dset-s2/tra_truth/S2B_L2A_20190807_N0213_R018_S1_Truth.tif  \n",
            "  inflating: dset-s2/tra_truth/S2A_L2A_20190314_N0211_R008_S2_Truth.tif  \n",
            "  inflating: dset-s2/tra_truth/S2B_L2A_20190430_N0211_R035_S3_Truth.tif  \n",
            "  inflating: dset-s2/tra_truth/S2B_L2A_20190818_N0213_R035_S2_Truth.tif  \n",
            "  inflating: dset-s2/tra_truth/S2A_L2A_20190817_N0213_R089_S2_Truth.tif  \n",
            "  inflating: dset-s2/tra_truth/S2A_L2A_20190206_N0211_R067_S2_Truth.tif  \n",
            "  inflating: dset-s2/tra_truth/S2A_L2A_20190811_N0213_R013_S1_Truth.tif  \n",
            "  inflating: dset-s2/tra_truth/S2B_L2A_20190904_N0213_R132_S1_Truth.tif  \n",
            "  inflating: dset-s2/tra_truth/S2A_L2A_20190830_N0213_R133_S3_Truth.tif  \n",
            "  inflating: dset-s2/tra_truth/S2B_L2A_20190607_N0212_R012_S3_Truth.tif  \n",
            "  inflating: dset-s2/tra_truth/S2A_L2A_20190817_N0213_R089_S4_Truth.tif  \n",
            "  inflating: dset-s2/tra_truth/S2B_L2A_20190912_N0213_R102_S3_Truth.tif  \n",
            "  inflating: dset-s2/tra_truth/S2B_L2A_20191023_N0213_R121_S1_Truth.tif  \n",
            "  inflating: dset-s2/tra_truth/S2A_L2A_20190125_N0211_R034_S2_Truth.tif  \n",
            "  inflating: dset-s2/tra_truth/S2B_L2A_20190801_N0213_R084_S2_Truth.tif  \n",
            "  inflating: dset-s2/tra_truth/S2B_L2A_20190620_N0212_R053_S1_Truth.tif  \n",
            "  inflating: dset-s2/tra_truth/S2B_L2A_20190225_N0211_R117_S3_Truth.tif  \n",
            "  inflating: dset-s2/tra_truth/S2B_L2A_20181226_N0211_R102_S2_Truth.tif  \n",
            "  inflating: dset-s2/val_truth/S2A_L2A_20190508_N0212_R078_S3_Truth.tif  \n",
            "  inflating: dset-s2/val_truth/S2A_L2A_20190318_N0211_R061_S1_Truth.tif  \n",
            "  inflating: dset-s2/val_truth/S2A_L2A_20190724_N0213_R033_S1_Truth.tif  \n",
            "  inflating: dset-s2/val_truth/S2B_L2A_20190620_N0212_R047_S2_Truth.tif  \n",
            "  inflating: dset-s2/val_truth/S2A_L2A_20190426_N0211_R053_S2_Truth.tif  \n",
            "  inflating: dset-s2/val_truth/S2A_L2A_20190429_N0211_R096_S3_Truth.tif  \n",
            "  inflating: dset-s2/val_truth/S2A_L2A_20190518_N0212_R073_S3_Truth.tif  \n",
            "  inflating: dset-s2/val_truth/S2A_L2A_20190508_N0212_R078_S2_Truth.tif  \n",
            "  inflating: dset-s2/val_truth/S2B_L2A_20190303_N0211_R065_S1_Truth.tif  \n",
            "  inflating: dset-s2/val_truth/S2B_L2A_20190620_N0212_R047_S3_Truth.tif  \n",
            "  inflating: dset-s2/val_truth/S2A_L2A_20190426_N0211_R053_S3_Truth.tif  \n",
            "  inflating: dset-s2/val_truth/S2A_L2A_20190429_N0211_R096_S2_Truth.tif  \n",
            "  inflating: dset-s2/val_truth/S2A_L2A_20190518_N0212_R073_S2_Truth.tif  \n",
            "  inflating: dset-s2/val_truth/S2A_L2A_20190725_N0213_R054_S1_Truth.tif  \n",
            "  inflating: dset-s2/val_truth/S2B_L2A_20191015_N0213_R007_S1_Truth.tif  \n",
            "  inflating: dset-s2/val_truth/S2A_L2A_20190508_N0212_R078_S1_Truth.tif  \n",
            "  inflating: dset-s2/val_truth/S2A_L2A_20190724_N0213_R033_S3_Truth.tif  \n",
            "  inflating: dset-s2/val_truth/S2A_L2A_20190725_N0213_R054_S4_Truth.tif  \n",
            "  inflating: dset-s2/val_truth/S2B_L2A_20190303_N0211_R065_S2_Truth.tif  \n",
            "  inflating: dset-s2/val_truth/S2A_L2A_20190318_N0211_R061_S3_Truth.tif  \n",
            "  inflating: dset-s2/val_truth/S2B_L2A_20191015_N0213_R007_S2_Truth.tif  \n",
            "  inflating: dset-s2/val_truth/S2A_L2A_20190725_N0213_R054_S2_Truth.tif  \n",
            "  inflating: dset-s2/val_truth/S2A_L2A_20190518_N0212_R073_S1_Truth.tif  \n",
            "  inflating: dset-s2/val_truth/S2A_L2A_20190429_N0211_R096_S1_Truth.tif  \n",
            "  inflating: dset-s2/val_truth/S2B_L2A_20190620_N0212_R047_S1_Truth.tif  \n",
            "  inflating: dset-s2/val_truth/S2B_L2A_20190303_N0211_R065_S3_Truth.tif  \n",
            "  inflating: dset-s2/val_truth/S2A_L2A_20190724_N0213_R033_S2_Truth.tif  \n",
            "  inflating: dset-s2/val_truth/S2A_L2A_20190318_N0211_R061_S2_Truth.tif  \n",
            "  inflating: dset-s2/val_truth/S2B_L2A_20191015_N0213_R007_S3_Truth.tif  \n",
            "  inflating: dset-s2/val_truth/S2A_L2A_20190426_N0211_R053_S1_Truth.tif  \n",
            "  inflating: dset-s2/val_truth/S2A_L2A_20190725_N0213_R054_S3_Truth.tif  \n",
            "  inflating: dset-s2/tra_scene/S2A_L2A_20190125_N0211_R034_6Bands_S1.tif  \n",
            "  inflating: dset-s2/tra_scene/S2A_L2A_20190206_N0211_R067_6Bands_S1.tif  \n",
            "  inflating: dset-s2/tra_scene/S2B_L2A_20190818_N0213_R035_6Bands_S1.tif  \n",
            "  inflating: dset-s2/tra_scene/S2B_L2A_20190818_N0213_R035_6Bands_S3.tif  \n",
            "  inflating: dset-s2/tra_scene/S2A_L2A_20190206_N0211_R067_6Bands_S3.tif  \n",
            "  inflating: dset-s2/tra_scene/S2A_L2A_20190125_N0211_R034_6Bands_S2.tif  \n",
            "  inflating: dset-s2/tra_scene/S2A_L2A_20190125_N0211_R034_6Bands_S3.tif  \n",
            "  inflating: dset-s2/tra_scene/S2A_L2A_20190206_N0211_R067_6Bands_S2.tif  \n",
            "  inflating: dset-s2/tra_scene/S2B_L2A_20190818_N0213_R035_6Bands_S2.tif  \n",
            "  inflating: dset-s2/tra_scene/S2B_L2A_20190607_N0212_R012_6Bands_S2.tif  \n",
            "  inflating: dset-s2/tra_scene/S2B_L2A_20190801_N0213_R084_6Bands_S1.tif  \n",
            "  inflating: dset-s2/tra_scene/S2B_L2A_20190607_N0212_R012_6Bands_S3.tif  \n",
            "  inflating: dset-s2/tra_scene/S2B_L2A_20190607_N0212_R012_6Bands_S1.tif  \n",
            "  inflating: dset-s2/tra_scene/S2B_L2A_20190801_N0213_R084_6Bands_S2.tif  \n",
            "  inflating: dset-s2/tra_scene/S2B_L2A_20190801_N0213_R084_6Bands_S3.tif  \n",
            "  inflating: dset-s2/tra_scene/S2A_L2A_20190817_N0213_R089_6Bands_S1.tif  \n",
            "  inflating: dset-s2/tra_scene/S2B_L2A_20181226_N0211_R102_6Bands_S2.tif  \n",
            "  inflating: dset-s2/tra_scene/S2B_L2A_20190831_N0213_R082_6Bands_S1.tif  \n",
            "  inflating: dset-s2/tra_scene/S2B_L2A_20181226_N0211_R102_6Bands_S3.tif  \n",
            "  inflating: dset-s2/tra_scene/S2A_L2A_20190817_N0213_R089_6Bands_S2.tif  \n",
            "  inflating: dset-s2/tra_scene/S2B_L2A_20181226_N0211_R102_6Bands_S1.tif  \n",
            "  inflating: dset-s2/tra_scene/S2B_L2A_20190831_N0213_R082_6Bands_S3.tif  \n",
            "  inflating: dset-s2/tra_scene/S2B_L2A_20190831_N0213_R082_6Bands_S2.tif  \n",
            "  inflating: dset-s2/tra_scene/S2A_L2A_20190817_N0213_R089_6Bands_S3.tif  \n",
            "  inflating: dset-s2/tra_scene/S2B_L2A_20190620_N0212_R053_6Bands_S3.tif  \n",
            "  inflating: dset-s2/tra_scene/S2B_L2A_20190807_N0213_R018_6Bands_S1.tif  \n",
            "  inflating: dset-s2/tra_scene/S2B_L2A_20190620_N0212_R053_6Bands_S2.tif  \n",
            "  inflating: dset-s2/tra_scene/S2A_L2A_20190817_N0213_R089_6Bands_S4.tif  \n",
            "  inflating: dset-s2/tra_scene/S2B_L2A_20190807_N0213_R018_6Bands_S3.tif  \n",
            "  inflating: dset-s2/tra_scene/S2B_L2A_20190807_N0213_R018_6Bands_S2.tif  \n",
            "  inflating: dset-s2/tra_scene/S2B_L2A_20190620_N0212_R053_6Bands_S1.tif  \n",
            "  inflating: dset-s2/tra_scene/S2B_L2A_20191023_N0213_R121_6Bands_S1.tif  \n",
            "  inflating: dset-s2/tra_scene/S2B_L2A_20190811_N0213_R079_6Bands_S1.tif  \n",
            "  inflating: dset-s2/tra_scene/S2B_L2A_20190225_N0211_R117_6Bands_S1.tif  \n",
            "  inflating: dset-s2/tra_scene/S2B_L2A_20190430_N0211_R035_6Bands_S1.tif  \n",
            "  inflating: dset-s2/tra_scene/S2B_L2A_20191023_N0213_R121_6Bands_S2.tif  \n",
            "  inflating: dset-s2/tra_scene/S2B_L2A_20190811_N0213_R079_6Bands_S2.tif  \n",
            "  inflating: dset-s2/tra_scene/S2B_L2A_20190430_N0211_R035_6Bands_S3.tif  \n",
            "  inflating: dset-s2/tra_scene/S2B_L2A_20190225_N0211_R117_6Bands_S2.tif  \n",
            "  inflating: dset-s2/tra_scene/S2B_L2A_20190225_N0211_R117_6Bands_S3.tif  \n",
            "  inflating: dset-s2/tra_scene/S2B_L2A_20190430_N0211_R035_6Bands_S2.tif  \n",
            "  inflating: dset-s2/tra_scene/S2B_L2A_20190811_N0213_R079_6Bands_S3.tif  \n",
            "  inflating: dset-s2/tra_scene/S2B_L2A_20191023_N0213_R121_6Bands_S3.tif  \n",
            "  inflating: dset-s2/tra_scene/S2B_L2A_20190912_N0213_R102_6Bands_S2.tif  \n",
            "  inflating: dset-s2/tra_scene/S2B_L2A_20190912_N0213_R102_6Bands_S3.tif  \n",
            "  inflating: dset-s2/tra_scene/S2B_L2A_20190912_N0213_R102_6Bands_S1.tif  \n",
            "  inflating: dset-s2/tra_scene/S2B_L2A_20190506_N0212_R126_6Bands_S2.tif  \n",
            "  inflating: dset-s2/tra_scene/S2A_L2A_20190811_N0213_R013_6Bands_S3.tif  \n",
            "  inflating: dset-s2/tra_scene/S2B_L2A_20190904_N0213_R132_6Bands_S2.tif  \n",
            "  inflating: dset-s2/tra_scene/S2A_L2A_20190716_N0213_R063_6Bands_S3.tif  \n",
            "  inflating: dset-s2/tra_scene/S2A_L2A_20190716_N0213_R063_6Bands_S2.tif  \n",
            "  inflating: dset-s2/tra_scene/S2B_L2A_20190904_N0213_R132_6Bands_S3.tif  \n",
            "  inflating: dset-s2/tra_scene/S2A_L2A_20190811_N0213_R013_6Bands_S2.tif  \n",
            "  inflating: dset-s2/tra_scene/S2B_L2A_20190506_N0212_R126_6Bands_S3.tif  \n",
            "  inflating: dset-s2/tra_scene/S2B_L2A_20190506_N0212_R126_6Bands_S1.tif  \n",
            "  inflating: dset-s2/tra_scene/S2B_L2A_20190904_N0213_R132_6Bands_S1.tif  \n",
            "  inflating: dset-s2/tra_scene/S2A_L2A_20190716_N0213_R063_6Bands_S1.tif  \n",
            "  inflating: dset-s2/tra_scene/S2A_L2A_20190811_N0213_R013_6Bands_S1.tif  \n",
            "  inflating: dset-s2/tra_scene/S2A_L2A_20190830_N0213_R133_6Bands_S1.tif  \n",
            "  inflating: dset-s2/tra_scene/S2A_L2A_20190314_N0211_R008_6Bands_S3.tif  \n",
            "  inflating: dset-s2/tra_scene/S2A_L2A_20190314_N0211_R008_6Bands_S2.tif  \n",
            "  inflating: dset-s2/tra_scene/S2A_L2A_20190830_N0213_R133_6Bands_S2.tif  \n",
            "  inflating: dset-s2/tra_scene/S2A_L2A_20190314_N0211_R008_6Bands_S1.tif  \n",
            "  inflating: dset-s2/tra_scene/S2A_L2A_20190830_N0213_R133_6Bands_S3.tif  \n",
            "  inflating: dset-s2/val_scene/S2A_L2A_20190518_N0212_R073_6Bands_S1.tif  \n",
            "  inflating: dset-s2/val_scene/S2A_L2A_20190518_N0212_R073_6Bands_S2.tif  \n",
            "  inflating: dset-s2/val_scene/S2A_L2A_20190518_N0212_R073_6Bands_S3.tif  \n",
            "  inflating: dset-s2/val_scene/S2B_L2A_20191015_N0213_R007_6Bands_S1.tif  \n",
            "  inflating: dset-s2/val_scene/S2B_L2A_20191015_N0213_R007_6Bands_S3.tif  \n",
            "  inflating: dset-s2/val_scene/S2B_L2A_20191015_N0213_R007_6Bands_S2.tif  \n",
            "  inflating: dset-s2/val_scene/S2A_L2A_20190426_N0211_R053_6Bands_S2.tif  \n",
            "  inflating: dset-s2/val_scene/S2B_L2A_20190620_N0212_R047_6Bands_S1.tif  \n",
            "  inflating: dset-s2/val_scene/S2A_L2A_20190429_N0211_R096_6Bands_S1.tif  \n",
            "  inflating: dset-s2/val_scene/S2A_L2A_20190426_N0211_R053_6Bands_S3.tif  \n",
            "  inflating: dset-s2/val_scene/S2A_L2A_20190426_N0211_R053_6Bands_S1.tif  \n",
            "  inflating: dset-s2/val_scene/S2A_L2A_20190429_N0211_R096_6Bands_S3.tif  \n",
            "  inflating: dset-s2/val_scene/S2B_L2A_20190620_N0212_R047_6Bands_S3.tif  \n",
            "  inflating: dset-s2/val_scene/S2B_L2A_20190620_N0212_R047_6Bands_S2.tif  \n",
            "  inflating: dset-s2/val_scene/S2A_L2A_20190429_N0211_R096_6Bands_S2.tif  \n",
            "  inflating: dset-s2/val_scene/S2A_L2A_20190508_N0212_R078_6Bands_S1.tif  \n",
            "  inflating: dset-s2/val_scene/S2A_L2A_20190508_N0212_R078_6Bands_S3.tif  \n",
            "  inflating: dset-s2/val_scene/S2A_L2A_20190508_N0212_R078_6Bands_S2.tif  \n",
            "  inflating: dset-s2/val_scene/S2A_L2A_20190318_N0211_R061_6Bands_S1.tif  \n",
            "  inflating: dset-s2/val_scene/S2A_L2A_20190318_N0211_R061_6Bands_S2.tif  \n",
            "  inflating: dset-s2/val_scene/S2A_L2A_20190725_N0213_R054_6Bands_S4.tif  \n",
            "  inflating: dset-s2/val_scene/S2A_L2A_20190318_N0211_R061_6Bands_S3.tif  \n",
            "  inflating: dset-s2/val_scene/S2A_L2A_20190725_N0213_R054_6Bands_S1.tif  \n",
            "  inflating: dset-s2/val_scene/S2A_L2A_20190725_N0213_R054_6Bands_S2.tif  \n",
            "  inflating: dset-s2/val_scene/S2A_L2A_20190725_N0213_R054_6Bands_S3.tif  \n",
            "  inflating: dset-s2/val_scene/S2B_L2A_20190303_N0211_R065_6Bands_S3.tif  \n",
            "  inflating: dset-s2/val_scene/S2A_L2A_20190724_N0213_R033_6Bands_S3.tif  \n",
            "  inflating: dset-s2/val_scene/S2A_L2A_20190724_N0213_R033_6Bands_S2.tif  \n",
            "  inflating: dset-s2/val_scene/S2B_L2A_20190303_N0211_R065_6Bands_S2.tif  \n",
            "  inflating: dset-s2/val_scene/S2A_L2A_20190724_N0213_R033_6Bands_S1.tif  \n",
            "  inflating: dset-s2/val_scene/S2B_L2A_20190303_N0211_R065_6Bands_S1.tif  \n"
          ]
        }
      ]
    },
    {
      "cell_type": "code",
      "source": [
        "from pathlib import  Path\n",
        "import xarray as xr\n",
        "import matplotlib.pyplot as plt\n",
        "\n",
        "root = Path('dset-s2')\n",
        "assert root.exists()\n",
        "\n",
        "train_imgs = list((root/'tra_scene').glob('*.tif'))\n",
        "train_masks = list((root/'tra_truth').glob('*.tif'))\n",
        "\n",
        "# As the images and corresponding masks are matched by name, we will sort both lists to keep them synchronized.\n",
        "train_imgs.sort(); train_masks.sort()"
      ],
      "metadata": {
        "id": "j1RQYSOcMRQT"
      },
      "execution_count": 6,
      "outputs": []
    },
    {
      "cell_type": "code",
      "source": [
        "len(train_imgs)"
      ],
      "metadata": {
        "id": "1iAMRGUgOfkb",
        "outputId": "ae9c81e7-4751-421a-e1c2-32652d079ce6",
        "colab": {
          "base_uri": "https://localhost:8080/"
        }
      },
      "execution_count": 23,
      "outputs": [
        {
          "output_type": "execute_result",
          "data": {
            "text/plain": [
              "64"
            ]
          },
          "metadata": {},
          "execution_count": 23
        }
      ]
    },
    {
      "cell_type": "code",
      "source": [
        "root"
      ],
      "metadata": {
        "id": "PqmUmE_oNmGg",
        "outputId": "d3a93af2-43e2-4401-d814-41eb1c03f5b2",
        "colab": {
          "base_uri": "https://localhost:8080/"
        }
      },
      "execution_count": 13,
      "outputs": [
        {
          "output_type": "execute_result",
          "data": {
            "text/plain": [
              "PosixPath('dset-s2')"
            ]
          },
          "metadata": {},
          "execution_count": 13
        }
      ]
    },
    {
      "cell_type": "code",
      "source": [
        "from torchgeo.datasets import RasterDataset, unbind_samples, stack_samples"
      ],
      "metadata": {
        "id": "2QxfdD5DMUjV"
      },
      "execution_count": 7,
      "outputs": []
    },
    {
      "cell_type": "code",
      "source": [
        "path1 = (root/'tra_scene').as_posix()"
      ],
      "metadata": {
        "id": "s-2l_XVGNuBR"
      },
      "execution_count": 16,
      "outputs": []
    },
    {
      "cell_type": "code",
      "source": [
        "train_ds = RasterDataset(path1, res=10, crs = 'epsg:3395')"
      ],
      "metadata": {
        "id": "yyCUIB4sM3O5"
      },
      "execution_count": 18,
      "outputs": []
    },
    {
      "cell_type": "code",
      "source": [
        "print(train_ds)"
      ],
      "metadata": {
        "id": "fqPSW8LXOJdp",
        "outputId": "283865c2-5c56-422f-9cce-f71d78b7d998",
        "colab": {
          "base_uri": "https://localhost:8080/"
        }
      },
      "execution_count": 19,
      "outputs": [
        {
          "output_type": "stream",
          "name": "stdout",
          "text": [
            "RasterDataset Dataset\n",
            "    type: GeoDataset\n",
            "    bbox: BoundingBox(minx=-12324108.040448364, maxx=18180258.35959181, miny=-3799980.764082729, maxy=11631943.16144237, mint=0.0, maxt=9.223372036854776e+18)\n",
            "    size: 64\n"
          ]
        }
      ]
    },
    {
      "cell_type": "code",
      "source": [
        "from torchgeo.samplers import RandomGeoSampler\n",
        "sampler = RandomGeoSampler(train_ds, size=(512, 512), length=100)"
      ],
      "metadata": {
        "id": "T6H6nBVqN8LH"
      },
      "execution_count": 20,
      "outputs": []
    },
    {
      "cell_type": "code",
      "source": [
        "import torch # this is to get the same result in every pass\n",
        "\n",
        "torch.manual_seed(0)\n",
        "bbox = next(iter(sampler))\n",
        "sample = train_ds[bbox]\n",
        "print(sample.keys())\n",
        "print(sample['image'].shape)"
      ],
      "metadata": {
        "id": "IbbbdtAZORv4",
        "outputId": "69314841-1c7a-4120-ba2f-536ef9ba5466",
        "colab": {
          "base_uri": "https://localhost:8080/"
        }
      },
      "execution_count": 21,
      "outputs": [
        {
          "output_type": "stream",
          "name": "stdout",
          "text": [
            "dict_keys(['crs', 'bbox', 'image'])\n",
            "torch.Size([6, 512, 512])\n"
          ]
        }
      ]
    },
    {
      "cell_type": "code",
      "source": [
        "bbox"
      ],
      "metadata": {
        "id": "QNzQARWfOVZn",
        "outputId": "aec9b168-4736-4d90-91e9-a6b2fdf409b3",
        "colab": {
          "base_uri": "https://localhost:8080/"
        }
      },
      "execution_count": 22,
      "outputs": [
        {
          "output_type": "execute_result",
          "data": {
            "text/plain": [
              "BoundingBox(minx=12454370.132734694, maxx=12459490.132734694, miny=121287.55083307336, maxy=126407.55083307336, mint=0.0, maxt=9.223372036854776e+18)"
            ]
          },
          "metadata": {},
          "execution_count": 22
        }
      ]
    },
    {
      "cell_type": "code",
      "source": [
        "def scale(item: dict):\n",
        "    item['image'] = item['image'] / 10000\n",
        "    return item"
      ],
      "metadata": {
        "id": "2l6eIFyxPbC4"
      },
      "execution_count": 26,
      "outputs": []
    },
    {
      "cell_type": "code",
      "source": [
        "train_imgs = RasterDataset((root/'tra_scene').as_posix(), crs='epsg:3395', res=10, transforms=scale)\n",
        "train_msks = RasterDataset((root/'tra_truth').as_posix(), crs='epsg:3395', res=10)\n"
      ],
      "metadata": {
        "id": "XCZeWjuHObdY"
      },
      "execution_count": 27,
      "outputs": []
    },
    {
      "cell_type": "code",
      "source": [
        "train_msks.is_image = False"
      ],
      "metadata": {
        "id": "tspspUchPc04"
      },
      "execution_count": 28,
      "outputs": []
    },
    {
      "cell_type": "code",
      "source": [
        "train_dset = train_imgs & train_msks"
      ],
      "metadata": {
        "id": "qdUhanhoPh2k"
      },
      "execution_count": 29,
      "outputs": []
    },
    {
      "cell_type": "code",
      "source": [
        "sample = train_dset[bbox]\n",
        "sample.keys()"
      ],
      "metadata": {
        "id": "Ttuq5lbKPifv",
        "outputId": "26ff1d20-67d3-465f-d85b-bf4aca005319",
        "colab": {
          "base_uri": "https://localhost:8080/"
        }
      },
      "execution_count": 31,
      "outputs": [
        {
          "output_type": "execute_result",
          "data": {
            "text/plain": [
              "dict_keys(['crs', 'bbox', 'image', 'mask'])"
            ]
          },
          "metadata": {},
          "execution_count": 31
        }
      ]
    },
    {
      "cell_type": "code",
      "source": [
        "train_msks[bbox].keys()"
      ],
      "metadata": {
        "id": "3vmQHJMpPmMA",
        "outputId": "35931b81-1b0b-49f6-e1c7-62b75eeabdc8",
        "colab": {
          "base_uri": "https://localhost:8080/"
        }
      },
      "execution_count": 32,
      "outputs": [
        {
          "output_type": "execute_result",
          "data": {
            "text/plain": [
              "dict_keys(['crs', 'bbox', 'mask'])"
            ]
          },
          "metadata": {},
          "execution_count": 32
        }
      ]
    },
    {
      "cell_type": "markdown",
      "source": [
        "DataLoader"
      ],
      "metadata": {
        "id": "PohSOX0XPwHt"
      }
    },
    {
      "cell_type": "code",
      "source": [
        "from torch.utils.data import DataLoader"
      ],
      "metadata": {
        "id": "ux_9HQgcQKFE"
      },
      "execution_count": 34,
      "outputs": []
    },
    {
      "cell_type": "code",
      "source": [
        "dataloader = DataLoader(train_dset, sampler=sampler, batch_size=8, collate_fn=stack_samples)"
      ],
      "metadata": {
        "id": "LfSR7s_PP0B2"
      },
      "execution_count": 35,
      "outputs": []
    },
    {
      "cell_type": "code",
      "source": [
        "batch = next(iter(dataloader))\n",
        "batch.keys()"
      ],
      "metadata": {
        "id": "SYQX69UZP_FZ",
        "outputId": "be51900a-7ef9-4561-dd3e-ee328ace583e",
        "colab": {
          "base_uri": "https://localhost:8080/"
        }
      },
      "execution_count": 36,
      "outputs": [
        {
          "output_type": "execute_result",
          "data": {
            "text/plain": [
              "dict_keys(['crs', 'bbox', 'image', 'mask'])"
            ]
          },
          "metadata": {},
          "execution_count": 36
        }
      ]
    },
    {
      "cell_type": "code",
      "source": [
        "import rasterio as rio\n",
        "\n",
        "def calc_statistics(dset: RasterDataset):\n",
        "        \"\"\"\n",
        "        Calculate the statistics (mean and std) for the entire dataset\n",
        "        Warning: This is an approximation. The correct value should take into account the\n",
        "        mean for the whole dataset for computing individual stds.\n",
        "        For correctness I suggest checking: http://notmatthancock.github.io/2017/03/23/simple-batch-stat-updates.html\n",
        "        \"\"\"\n",
        "\n",
        "        # To avoid loading the entire dataset in memory, we will loop through each img\n",
        "        # The filenames will be retrieved from the dataset's rtree index\n",
        "        files = [item.object for item in dset.index.intersection(dset.index.bounds, objects=True)]\n",
        "\n",
        "        # Reseting statistics\n",
        "        accum_mean = 0\n",
        "        accum_std = 0\n",
        "\n",
        "        for file in files:\n",
        "            img = rio.open(file).read()/10000 #type: ignore\n",
        "            accum_mean += img.reshape((img.shape[0], -1)).mean(axis=1)\n",
        "            accum_std += img.reshape((img.shape[0], -1)).std(axis=1)\n",
        "\n",
        "        # at the end, we shall have 2 vectors with lenght n=chnls\n",
        "        # we will average them considering the number of images\n",
        "        return accum_mean / len(files), accum_std / len(files)"
      ],
      "metadata": {
        "id": "edYHXng5QMMk"
      },
      "execution_count": 37,
      "outputs": []
    },
    {
      "cell_type": "code",
      "source": [
        "mean, std = calc_statistics(train_imgs)\n",
        "print(mean, std)"
      ],
      "metadata": {
        "id": "9lK1aOE3QUDg",
        "outputId": "6b60306e-cd1d-4519-f84c-fe922ed805cc",
        "colab": {
          "base_uri": "https://localhost:8080/"
        }
      },
      "execution_count": 38,
      "outputs": [
        {
          "output_type": "stream",
          "name": "stdout",
          "text": [
            "[0.0771449  0.09890421 0.09758993 0.22216185 0.1854808  0.13288888] [0.04496952 0.05038998 0.06053346 0.10840577 0.0993342  0.08219175]\n"
          ]
        }
      ]
    },
    {
      "cell_type": "code",
      "source": [
        "class MyNormalize(torch.nn.Module):\n",
        "    def __init__(self, mean: List[float], stdev: List[float]):\n",
        "        super().__init__()\n",
        "\n",
        "        self.mean = torch.Tensor(mean)[:, None, None]\n",
        "        self.std = torch.Tensor(stdev)[:, None, None]\n",
        "\n",
        "    def forward(self, inputs: dict):\n",
        "\n",
        "        x = inputs[\"image\"][..., : len(self.mean), :, :]\n",
        "\n",
        "        # if batch\n",
        "        if inputs[\"image\"].ndim == 4:\n",
        "            x = (x - self.mean[None, ...]) / self.std[None, ...]\n",
        "\n",
        "        else:\n",
        "            x = (x - self.mean) / self.std\n",
        "\n",
        "        inputs[\"image\"][..., : len(self.mean), :, :] = x\n",
        "\n",
        "        return inputs\n",
        "\n",
        "    def revert(self, inputs: dict):\n",
        "        \"\"\"\n",
        "        De-normalize the batch.\n",
        "        Args:\n",
        "            inputs (dict): Dictionary with the 'image' key\n",
        "        \"\"\"\n",
        "\n",
        "        x = inputs[\"image\"][..., : len(self.mean), :, :]\n",
        "\n",
        "        # if batch\n",
        "        if x.ndim == 4:\n",
        "            x = inputs[\"image\"][:, : len(self.mean), ...]\n",
        "            x = x * self.std[None, ...] + self.mean[None, ...]\n",
        "        else:\n",
        "            x = x * self.std + self.mean\n",
        "\n",
        "        inputs[\"image\"][..., : len(self.mean), :, :] = x\n",
        "\n",
        "        return inputs"
      ],
      "metadata": {
        "id": "wOn3PUyHQc6o",
        "outputId": "42c88821-cc7d-4f17-f8c1-f5dd8034d622",
        "colab": {
          "base_uri": "https://localhost:8080/",
          "height": 341
        }
      },
      "execution_count": 39,
      "outputs": [
        {
          "output_type": "error",
          "ename": "NameError",
          "evalue": "name 'List' is not defined",
          "traceback": [
            "\u001b[0;31m---------------------------------------------------------------------------\u001b[0m",
            "\u001b[0;31mNameError\u001b[0m                                 Traceback (most recent call last)",
            "\u001b[0;32m<ipython-input-39-bf18c6a3f6f4>\u001b[0m in \u001b[0;36m<cell line: 1>\u001b[0;34m()\u001b[0m\n\u001b[0;32m----> 1\u001b[0;31m \u001b[0;32mclass\u001b[0m \u001b[0mMyNormalize\u001b[0m\u001b[0;34m(\u001b[0m\u001b[0mtorch\u001b[0m\u001b[0;34m.\u001b[0m\u001b[0mnn\u001b[0m\u001b[0;34m.\u001b[0m\u001b[0mModule\u001b[0m\u001b[0;34m)\u001b[0m\u001b[0;34m:\u001b[0m\u001b[0;34m\u001b[0m\u001b[0;34m\u001b[0m\u001b[0m\n\u001b[0m\u001b[1;32m      2\u001b[0m     \u001b[0;32mdef\u001b[0m \u001b[0m__init__\u001b[0m\u001b[0;34m(\u001b[0m\u001b[0mself\u001b[0m\u001b[0;34m,\u001b[0m \u001b[0mmean\u001b[0m\u001b[0;34m:\u001b[0m \u001b[0mList\u001b[0m\u001b[0;34m[\u001b[0m\u001b[0mfloat\u001b[0m\u001b[0;34m]\u001b[0m\u001b[0;34m,\u001b[0m \u001b[0mstdev\u001b[0m\u001b[0;34m:\u001b[0m \u001b[0mList\u001b[0m\u001b[0;34m[\u001b[0m\u001b[0mfloat\u001b[0m\u001b[0;34m]\u001b[0m\u001b[0;34m)\u001b[0m\u001b[0;34m:\u001b[0m\u001b[0;34m\u001b[0m\u001b[0;34m\u001b[0m\u001b[0m\n\u001b[1;32m      3\u001b[0m         \u001b[0msuper\u001b[0m\u001b[0;34m(\u001b[0m\u001b[0;34m)\u001b[0m\u001b[0;34m.\u001b[0m\u001b[0m__init__\u001b[0m\u001b[0;34m(\u001b[0m\u001b[0;34m)\u001b[0m\u001b[0;34m\u001b[0m\u001b[0;34m\u001b[0m\u001b[0m\n\u001b[1;32m      4\u001b[0m \u001b[0;34m\u001b[0m\u001b[0m\n\u001b[1;32m      5\u001b[0m         \u001b[0mself\u001b[0m\u001b[0;34m.\u001b[0m\u001b[0mmean\u001b[0m \u001b[0;34m=\u001b[0m \u001b[0mtorch\u001b[0m\u001b[0;34m.\u001b[0m\u001b[0mTensor\u001b[0m\u001b[0;34m(\u001b[0m\u001b[0mmean\u001b[0m\u001b[0;34m)\u001b[0m\u001b[0;34m[\u001b[0m\u001b[0;34m:\u001b[0m\u001b[0;34m,\u001b[0m \u001b[0;32mNone\u001b[0m\u001b[0;34m,\u001b[0m \u001b[0;32mNone\u001b[0m\u001b[0;34m]\u001b[0m\u001b[0;34m\u001b[0m\u001b[0;34m\u001b[0m\u001b[0m\n",
            "\u001b[0;32m<ipython-input-39-bf18c6a3f6f4>\u001b[0m in \u001b[0;36mMyNormalize\u001b[0;34m()\u001b[0m\n\u001b[1;32m      1\u001b[0m \u001b[0;32mclass\u001b[0m \u001b[0mMyNormalize\u001b[0m\u001b[0;34m(\u001b[0m\u001b[0mtorch\u001b[0m\u001b[0;34m.\u001b[0m\u001b[0mnn\u001b[0m\u001b[0;34m.\u001b[0m\u001b[0mModule\u001b[0m\u001b[0;34m)\u001b[0m\u001b[0;34m:\u001b[0m\u001b[0;34m\u001b[0m\u001b[0;34m\u001b[0m\u001b[0m\n\u001b[0;32m----> 2\u001b[0;31m     \u001b[0;32mdef\u001b[0m \u001b[0m__init__\u001b[0m\u001b[0;34m(\u001b[0m\u001b[0mself\u001b[0m\u001b[0;34m,\u001b[0m \u001b[0mmean\u001b[0m\u001b[0;34m:\u001b[0m \u001b[0mList\u001b[0m\u001b[0;34m[\u001b[0m\u001b[0mfloat\u001b[0m\u001b[0;34m]\u001b[0m\u001b[0;34m,\u001b[0m \u001b[0mstdev\u001b[0m\u001b[0;34m:\u001b[0m \u001b[0mList\u001b[0m\u001b[0;34m[\u001b[0m\u001b[0mfloat\u001b[0m\u001b[0;34m]\u001b[0m\u001b[0;34m)\u001b[0m\u001b[0;34m:\u001b[0m\u001b[0;34m\u001b[0m\u001b[0;34m\u001b[0m\u001b[0m\n\u001b[0m\u001b[1;32m      3\u001b[0m         \u001b[0msuper\u001b[0m\u001b[0;34m(\u001b[0m\u001b[0;34m)\u001b[0m\u001b[0;34m.\u001b[0m\u001b[0m__init__\u001b[0m\u001b[0;34m(\u001b[0m\u001b[0;34m)\u001b[0m\u001b[0;34m\u001b[0m\u001b[0;34m\u001b[0m\u001b[0m\n\u001b[1;32m      4\u001b[0m \u001b[0;34m\u001b[0m\u001b[0m\n\u001b[1;32m      5\u001b[0m         \u001b[0mself\u001b[0m\u001b[0;34m.\u001b[0m\u001b[0mmean\u001b[0m \u001b[0;34m=\u001b[0m \u001b[0mtorch\u001b[0m\u001b[0;34m.\u001b[0m\u001b[0mTensor\u001b[0m\u001b[0;34m(\u001b[0m\u001b[0mmean\u001b[0m\u001b[0;34m)\u001b[0m\u001b[0;34m[\u001b[0m\u001b[0;34m:\u001b[0m\u001b[0;34m,\u001b[0m \u001b[0;32mNone\u001b[0m\u001b[0;34m,\u001b[0m \u001b[0;32mNone\u001b[0m\u001b[0;34m]\u001b[0m\u001b[0;34m\u001b[0m\u001b[0;34m\u001b[0m\u001b[0m\n",
            "\u001b[0;31mNameError\u001b[0m: name 'List' is not defined"
          ]
        }
      ]
    }
  ]
}